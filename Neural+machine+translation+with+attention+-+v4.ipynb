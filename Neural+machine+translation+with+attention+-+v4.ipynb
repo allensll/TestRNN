{
 "cells": [
  {
   "cell_type": "code",
   "execution_count": 1,
   "metadata": {},
   "outputs": [
    {
     "name": "stderr",
     "output_type": "stream",
     "text": [
      "Using TensorFlow backend.\n"
     ]
    }
   ],
   "source": [
    "from keras.layers import Bidirectional, Concatenate, Permute, Dot, Input, LSTM, Multiply\n",
    "from keras.layers import RepeatVector, Dense, Activation, Lambda\n",
    "from keras.optimizers import Adam\n",
    "from keras.utils import to_categorical\n",
    "from keras.models import load_model, Model\n",
    "import keras.backend as K\n",
    "import numpy as np\n",
    "\n",
    "from faker import Faker\n",
    "import random\n",
    "from tqdm import tqdm\n",
    "from babel.dates import format_date\n",
    "from utils import *\n",
    "import matplotlib.pyplot as plt\n",
    "%matplotlib inline"
   ]
  },
  {
   "cell_type": "markdown",
   "metadata": {},
   "source": [
    "## 1 - Translating human readable dates into machine readable dates\n",
    "\n",
    "The model you will build here could be used to translate from one language to another, such as translating from English to Hindi. However, language translation requires massive datasets and usually takes days of training on GPUs. To give you a place to experiment with these models even without using massive datasets, we will instead use a simpler \"date translation\" task. \n",
    "\n",
    "The network will input a date written in a variety of possible formats (*e.g. \"the 29th of August 1958\", \"03/30/1968\", \"24 JUNE 1987\"*) and translate them into standardized, machine readable dates (*e.g. \"1958-08-29\", \"1968-03-30\", \"1987-06-24\"*). We will have the network learn to output dates in the common machine-readable format YYYY-MM-DD. \n",
    "\n",
    "\n",
    "\n",
    "<!-- \n",
    "Take a look at [nmt_utils.py](./nmt_utils.py) to see all the formatting. Count and figure out how the formats work, you will need this knowledge later. !--> "
   ]
  },
  {
   "cell_type": "markdown",
   "metadata": {},
   "source": [
    "### 1.1 - Dataset\n",
    "\n",
    "We will train the model on a dataset of 10000 human readable dates and their equivalent, standardized, machine readable dates. Let's run the following cells to load the dataset and print some examples. "
   ]
  },
  {
   "cell_type": "code",
   "execution_count": 2,
   "metadata": {},
   "outputs": [
    {
     "name": "stderr",
     "output_type": "stream",
     "text": [
      "100%|█████████████████████████████████| 50000/50000 [00:01<00:00, 25601.64it/s]\n"
     ]
    }
   ],
   "source": [
    "m = 50000\n",
    "dataset, human_vocab, machine_vocab, inv_machine_vocab = load_dataset(m)"
   ]
  },
  {
   "cell_type": "code",
   "execution_count": 3,
   "metadata": {},
   "outputs": [
    {
     "data": {
      "text/plain": [
       "10"
      ]
     },
     "execution_count": 3,
     "metadata": {},
     "output_type": "execute_result"
    }
   ],
   "source": [
    "len(machine_vocab)"
   ]
  },
  {
   "cell_type": "code",
   "execution_count": 4,
   "metadata": {},
   "outputs": [
    {
     "data": {
      "text/plain": [
       "[('saturday may 9 1998', '1998'),\n",
       " ('september 10 1970', '1970'),\n",
       " ('saturday april 28 1990', '1990'),\n",
       " ('thursday january 26 1995', '1995'),\n",
       " ('march 7 1983', '1983'),\n",
       " ('sunday may 22 1988', '1988'),\n",
       " ('tuesday july 8 2008', '2008'),\n",
       " ('september 8 1999', '1999'),\n",
       " ('thursday january 1 1981', '1981'),\n",
       " ('may 22 1995', '1995')]"
      ]
     },
     "execution_count": 4,
     "metadata": {},
     "output_type": "execute_result"
    }
   ],
   "source": [
    "dataset[:10]"
   ]
  },
  {
   "cell_type": "markdown",
   "metadata": {},
   "source": [
    "You've loaded:\n",
    "- `dataset`: a list of tuples of (human readable date, machine readable date)\n",
    "- `human_vocab`: a python dictionary mapping all characters used in the human readable dates to an integer-valued index \n",
    "- `machine_vocab`: a python dictionary mapping all characters used in machine readable dates to an integer-valued index. These indices are not necessarily consistent with `human_vocab`. \n",
    "- `inv_machine_vocab`: the inverse dictionary of `machine_vocab`, mapping from indices back to characters. \n",
    "\n",
    "Let's preprocess the data and map the raw text data into the index values. We will also use Tx=30 (which we assume is the maximum length of the human readable date; if we get a longer input, we would have to truncate it) and Ty=10 (since \"YYYY-MM-DD\" is 10 characters long). "
   ]
  },
  {
   "cell_type": "code",
   "execution_count": 5,
   "metadata": {},
   "outputs": [
    {
     "name": "stdout",
     "output_type": "stream",
     "text": [
      "X.shape: (50000, 30)\n",
      "Y.shape: (50000, 4)\n",
      "Xoh.shape: (50000, 30, 35)\n",
      "Yoh.shape: (50000, 4, 10)\n"
     ]
    }
   ],
   "source": [
    "Tx = 30\n",
    "Ty = 4\n",
    "X, Y, Xoh, Yoh = preprocess_data(dataset, human_vocab, machine_vocab, Tx, Ty)\n",
    "\n",
    "print(\"X.shape:\", X.shape)\n",
    "print(\"Y.shape:\", Y.shape)\n",
    "print(\"Xoh.shape:\", Xoh.shape)\n",
    "print(\"Yoh.shape:\", Yoh.shape)"
   ]
  },
  {
   "cell_type": "markdown",
   "metadata": {},
   "source": [
    "You now have:\n",
    "- `X`: a processed version of the human readable dates in the training set, where each character is replaced by an index mapped to the character via `human_vocab`. Each date is further padded to $T_x$ values with a special character (< pad >). `X.shape = (m, Tx)`\n",
    "- `Y`: a processed version of the machine readable dates in the training set, where each character is replaced by the index it is mapped to in `machine_vocab`. You should have `Y.shape = (m, Ty)`. \n",
    "- `Xoh`: one-hot version of `X`, the \"1\" entry's index is mapped to the character thanks to `human_vocab`. `Xoh.shape = (m, Tx, len(human_vocab))`\n",
    "- `Yoh`: one-hot version of `Y`, the \"1\" entry's index is mapped to the character thanks to `machine_vocab`. `Yoh.shape = (m, Tx, len(machine_vocab))`. Here, `len(machine_vocab) = 11` since there are 11 characters ('-' as well as 0-9). \n"
   ]
  },
  {
   "cell_type": "markdown",
   "metadata": {},
   "source": [
    "Lets also look at some examples of preprocessed training examples. Feel free to play with `index` in the cell below to navigate the dataset and see how source/target dates are preprocessed. "
   ]
  },
  {
   "cell_type": "code",
   "execution_count": 6,
   "metadata": {},
   "outputs": [
    {
     "name": "stdout",
     "output_type": "stream",
     "text": [
      "Source date: saturday may 9 1998\n",
      "Target date: 1998\n",
      "\n",
      "Source after preprocessing (indices): [27 11 28 29 26 14 11 32  0 22 11 32  0 10  0  2 10 10  9 34 34 34 34 34\n",
      " 34 34 34 34 34 34]\n",
      "Target after preprocessing (indices): [1 9 9 8]\n",
      "\n",
      "Source after preprocessing (one-hot): [[0. 0. 0. ... 0. 0. 0.]\n",
      " [0. 0. 0. ... 0. 0. 0.]\n",
      " [0. 0. 0. ... 0. 0. 0.]\n",
      " ...\n",
      " [0. 0. 0. ... 0. 0. 1.]\n",
      " [0. 0. 0. ... 0. 0. 1.]\n",
      " [0. 0. 0. ... 0. 0. 1.]]\n",
      "Target after preprocessing (one-hot): [[0. 1. 0. 0. 0. 0. 0. 0. 0. 0.]\n",
      " [0. 0. 0. 0. 0. 0. 0. 0. 0. 1.]\n",
      " [0. 0. 0. 0. 0. 0. 0. 0. 0. 1.]\n",
      " [0. 0. 0. 0. 0. 0. 0. 0. 1. 0.]]\n"
     ]
    }
   ],
   "source": [
    "index = 0\n",
    "print(\"Source date:\", dataset[index][0])\n",
    "print(\"Target date:\", dataset[index][1])\n",
    "print()\n",
    "print(\"Source after preprocessing (indices):\", X[index])\n",
    "print(\"Target after preprocessing (indices):\", Y[index])\n",
    "print()\n",
    "print(\"Source after preprocessing (one-hot):\", Xoh[index])\n",
    "print(\"Target after preprocessing (one-hot):\", Yoh[index])"
   ]
  },
  {
   "cell_type": "markdown",
   "metadata": {},
   "source": [
    "## 2 - Neural machine translation with attention\n",
    "\n",
    "If you had to translate a book's paragraph from French to English, you would not read the whole paragraph, then close the book and translate. Even during the translation process, you would read/re-read and focus on the parts of the French paragraph corresponding to the parts of the English you are writing down. \n",
    "\n",
    "The attention mechanism tells a Neural Machine Translation model where it should pay attention to at any step. \n",
    "\n",
    "\n",
    "### 2.1 - Attention mechanism\n",
    "\n",
    "In this part, you will implement the attention mechanism presented in the lecture videos. Here is a figure to remind you how the model works. The diagram on the left shows the attention model. The diagram on the right shows what one \"Attention\" step does to calculate the attention variables $\\alpha^{\\langle t, t' \\rangle}$, which are used to compute the context variable $context^{\\langle t \\rangle}$ for each timestep in the output ($t=1, \\ldots, T_y$). \n",
    "\n",
    "<table>\n",
    "<td> \n",
    "<img src=\"images/attn_model.png\" style=\"width:500;height:500px;\"> <br>\n",
    "</td> \n",
    "<td> \n",
    "<img src=\"images/attn_mechanism.png\" style=\"width:500;height:500px;\"> <br>\n",
    "</td> \n",
    "</table>\n",
    "<caption><center> **Figure 1**: Neural machine translation with attention</center></caption>\n"
   ]
  },
  {
   "cell_type": "markdown",
   "metadata": {},
   "source": [
    "\n",
    "Here are some properties of the model that you may notice: \n",
    "\n",
    "- There are two separate LSTMs in this model (see diagram on the left). Because the one at the bottom of the picture is a Bi-directional LSTM and comes *before* the attention mechanism, we will call it *pre-attention* Bi-LSTM. The LSTM at the top of the diagram comes *after* the attention mechanism, so we will call it the *post-attention* LSTM. The pre-attention Bi-LSTM goes through $T_x$ time steps; the post-attention LSTM goes through $T_y$ time steps. \n",
    "\n",
    "- The post-attention LSTM passes $s^{\\langle t \\rangle}, c^{\\langle t \\rangle}$ from one time step to the next. In the lecture videos, we were using only a basic RNN for the post-activation sequence model, so the state captured by the RNN output activations $s^{\\langle t\\rangle}$. But since we are using an LSTM here, the LSTM has both the output activation $s^{\\langle t\\rangle}$ and the hidden cell state $c^{\\langle t\\rangle}$. However, unlike previous text generation examples (such as Dinosaurus in week 1), in this model the post-activation LSTM at time $t$ does will not take the specific generated $y^{\\langle t-1 \\rangle}$ as input; it only takes $s^{\\langle t\\rangle}$ and $c^{\\langle t\\rangle}$ as input. We have designed the model this way, because (unlike language generation where adjacent characters are highly correlated) there isn't as strong a dependency between the previous character and the next character in a YYYY-MM-DD date. \n",
    "\n",
    "- We use $a^{\\langle t \\rangle} = [\\overrightarrow{a}^{\\langle t \\rangle}; \\overleftarrow{a}^{\\langle t \\rangle}]$ to represent the concatenation of the activations of both the forward-direction and backward-directions of the pre-attention Bi-LSTM. \n",
    "\n",
    "- The diagram on the right uses a `RepeatVector` node to copy $s^{\\langle t-1 \\rangle}$'s value $T_x$ times, and then `Concatenation` to concatenate $s^{\\langle t-1 \\rangle}$ and $a^{\\langle t \\rangle}$ to compute $e^{\\langle t, t'}$, which is then passed through a softmax to compute $\\alpha^{\\langle t, t' \\rangle}$. We'll explain how to use `RepeatVector` and `Concatenation` in Keras below. \n",
    "\n",
    "Lets implement this model. You will start by implementing two functions: `one_step_attention()` and `model()`.\n",
    "\n",
    "**1) `one_step_attention()`**: At step $t$, given all the hidden states of the Bi-LSTM ($[a^{<1>},a^{<2>}, ..., a^{<T_x>}]$) and the previous hidden state of the second LSTM ($s^{<t-1>}$), `one_step_attention()` will compute the attention weights ($[\\alpha^{<t,1>},\\alpha^{<t,2>}, ..., \\alpha^{<t,T_x>}]$) and output the context vector (see Figure  1 (right) for details):\n",
    "$$context^{<t>} = \\sum_{t' = 0}^{T_x} \\alpha^{<t,t'>}a^{<t'>}\\tag{1}$$ \n",
    "\n",
    "Note that we are denoting the attention in this notebook $context^{\\langle t \\rangle}$. In the lecture videos, the context was denoted $c^{\\langle t \\rangle}$, but here we are calling it $context^{\\langle t \\rangle}$ to avoid confusion with the (post-attention) LSTM's internal memory cell variable, which is sometimes also denoted $c^{\\langle t \\rangle}$. \n",
    "  \n",
    "**2) `model()`**: Implements the entire model. It first runs the input through a Bi-LSTM to get back $[a^{<1>},a^{<2>}, ..., a^{<T_x>}]$. Then, it calls `one_step_attention()` $T_y$ times (`for` loop). At each iteration of this loop, it gives the computed context vector $c^{<t>}$ to the second LSTM, and runs the output of the LSTM through a dense layer with softmax activation to generate a prediction $\\hat{y}^{<t>}$. \n",
    "\n",
    "\n",
    "\n",
    "**Exercise**: Implement `one_step_attention()`. The function `model()` will call the layers in `one_step_attention()` $T_y$ using a for-loop, and it is important that all $T_y$ copies have the same weights. I.e., it should not re-initiaiize the weights every time. In other words, all $T_y$ steps should have shared weights. Here's how you can implement layers with shareable weights in Keras:\n",
    "1. Define the layer objects (as global variables for examples).\n",
    "2. Call these objects when propagating the input.\n",
    "\n",
    "We have defined the layers you need as global variables. Please run the following cells to create them. Please check the Keras documentation to make sure you understand what these layers are: [RepeatVector()](https://keras.io/layers/core/#repeatvector), [Concatenate()](https://keras.io/layers/merge/#concatenate), [Dense()](https://keras.io/layers/core/#dense), [Activation()](https://keras.io/layers/core/#activation), [Dot()](https://keras.io/layers/merge/#dot)."
   ]
  },
  {
   "cell_type": "code",
   "execution_count": 7,
   "metadata": {},
   "outputs": [],
   "source": [
    "# Defined shared layers as global variables\n",
    "repeator = RepeatVector(Tx)\n",
    "concatenator = Concatenate(axis=-1)\n",
    "densor1 = Dense(10, activation = \"tanh\")\n",
    "densor2 = Dense(1, activation = \"relu\")\n",
    "activator = Activation(softmax, name='attention_weights') # We are using a custom softmax(axis = 1) loaded in this notebook\n",
    "dotor = Dot(axes = 1)"
   ]
  },
  {
   "cell_type": "markdown",
   "metadata": {},
   "source": [
    "Now you can use these layers to implement `one_step_attention()`. In order to propagate a Keras tensor object X through one of these layers, use `layer(X)` (or `layer([X,Y])` if it requires multiple inputs.), e.g. `densor(X)` will propagate X through the `Dense(1)` layer defined above."
   ]
  },
  {
   "cell_type": "code",
   "execution_count": 8,
   "metadata": {},
   "outputs": [],
   "source": [
    "# GRADED FUNCTION: one_step_attention\n",
    "\n",
    "def one_step_attention(a, s_prev):\n",
    "    \"\"\"\n",
    "    Performs one step of attention: Outputs a context vector computed as a dot product of the attention weights\n",
    "    \"alphas\" and the hidden states \"a\" of the Bi-LSTM.\n",
    "    \n",
    "    Arguments:\n",
    "    a -- hidden state output of the Bi-LSTM, numpy-array of shape (m, Tx, 2*n_a)\n",
    "    s_prev -- previous hidden state of the (post-attention) LSTM, numpy-array of shape (m, n_s)\n",
    "    \n",
    "    Returns:\n",
    "    context -- context vector, input of the next (post-attetion) LSTM cell\n",
    "    \"\"\"\n",
    "    \n",
    "    ### START CODE HERE ###\n",
    "    # Use repeator to repeat s_prev to be of shape (m, Tx, n_s) so that you can concatenate it with all hidden states \"a\" (≈ 1 line)\n",
    "    s_prev = repeator(s_prev)\n",
    "    # Use concatenator to concatenate a and s_prev on the last axis (≈ 1 line)\n",
    "    concat = concatenator([a, s_prev])\n",
    "    # Use densor1 to propagate concat through a small fully-connected neural network to compute the \"intermediate energies\" variable e. (≈1 lines)\n",
    "    e = densor1(concat)\n",
    "    # Use densor2 to propagate e through a small fully-connected neural network to compute the \"energies\" variable energies. (≈1 lines)\n",
    "    energies = densor2(e)\n",
    "    # Use \"activator\" on \"energies\" to compute the attention weights \"alphas\" (≈ 1 line)\n",
    "    alphas = activator(energies)\n",
    "    # Use dotor together with \"alphas\" and \"a\" to compute the context vector to be given to the next (post-attention) LSTM-cell (≈ 1 line)\n",
    "    context = dotor([alphas, a])\n",
    "    ### END CODE HERE ###\n",
    "    \n",
    "    return context"
   ]
  },
  {
   "cell_type": "markdown",
   "metadata": {},
   "source": [
    "You will be able to check the expected output of `one_step_attention()` after you've coded the `model()` function."
   ]
  },
  {
   "cell_type": "markdown",
   "metadata": {},
   "source": [
    "**Exercise**: Implement `model()` as explained in figure 2 and the text above. Again, we have defined global layers that will share weights to be used in `model()`."
   ]
  },
  {
   "cell_type": "code",
   "execution_count": 9,
   "metadata": {},
   "outputs": [],
   "source": [
    "n_a = 32\n",
    "n_s = 64\n",
    "post_activation_LSTM_cell = LSTM(n_s, return_state = True)\n",
    "output_layer = Dense(len(machine_vocab), activation=softmax)"
   ]
  },
  {
   "cell_type": "markdown",
   "metadata": {},
   "source": [
    "Now you can use these layers $T_y$ times in a `for` loop to generate the outputs, and their parameters will not be reinitialized. You will have to carry out the following steps: \n",
    "\n",
    "1. Propagate the input into a [Bidirectional](https://keras.io/layers/wrappers/#bidirectional) [LSTM](https://keras.io/layers/recurrent/#lstm)\n",
    "2. Iterate for $t = 0, \\dots, T_y-1$: \n",
    "    1. Call `one_step_attention()` on $[\\alpha^{<t,1>},\\alpha^{<t,2>}, ..., \\alpha^{<t,T_x>}]$ and $s^{<t-1>}$ to get the context vector $context^{<t>}$.\n",
    "    2. Give $context^{<t>}$ to the post-attention LSTM cell. Remember pass in the previous hidden-state $s^{\\langle t-1\\rangle}$ and cell-states $c^{\\langle t-1\\rangle}$ of this LSTM using `initial_state= [previous hidden state, previous cell state]`. Get back the new hidden state $s^{<t>}$ and the new cell state $c^{<t>}$.\n",
    "    3. Apply a softmax layer to $s^{<t>}$, get the output. \n",
    "    4. Save the output by adding it to the list of outputs.\n",
    "\n",
    "3. Create your Keras model instance, it should have three inputs (\"inputs\", $s^{<0>}$ and $c^{<0>}$) and output the list of \"outputs\"."
   ]
  },
  {
   "cell_type": "code",
   "execution_count": 10,
   "metadata": {},
   "outputs": [],
   "source": [
    "# GRADED FUNCTION: model\n",
    "\n",
    "def model(Tx, Ty, n_a, n_s, human_vocab_size, machine_vocab_size):\n",
    "    \"\"\"\n",
    "    Arguments:\n",
    "    Tx -- length of the input sequence\n",
    "    Ty -- length of the output sequence\n",
    "    n_a -- hidden state size of the Bi-LSTM\n",
    "    n_s -- hidden state size of the post-attention LSTM\n",
    "    human_vocab_size -- size of the python dictionary \"human_vocab\"\n",
    "    machine_vocab_size -- size of the python dictionary \"machine_vocab\"\n",
    "\n",
    "    Returns:\n",
    "    model -- Keras model instance\n",
    "    \"\"\"\n",
    "    \n",
    "    # Define the inputs of your model with a shape (Tx,)\n",
    "    # Define s0 and c0, initial hidden state for the decoder LSTM of shape (n_s,)\n",
    "    X = Input(shape=(Tx, human_vocab_size))\n",
    "    s0 = Input(shape=(n_s,), name='s0')\n",
    "    c0 = Input(shape=(n_s,), name='c0')\n",
    "    s = s0\n",
    "    c = c0\n",
    "    \n",
    "    # Initialize empty list of outputs\n",
    "    outputs = []\n",
    "    \n",
    "    ### START CODE HERE ###\n",
    "    \n",
    "    # Step 1: Define your pre-attention Bi-LSTM. Remember to use return_sequences=True. (≈ 1 line)\n",
    "    a = Bidirectional(LSTM(n_a, return_sequences=True))(X)\n",
    "    \n",
    "    # Step 2: Iterate for Ty steps\n",
    "    for t in range(Ty):\n",
    "    \n",
    "        # Step 2.A: Perform one step of the attention mechanism to get back the context vector at step t (≈ 1 line)\n",
    "        context = one_step_attention(a, s)\n",
    "        \n",
    "        # Step 2.B: Apply the post-attention LSTM cell to the \"context\" vector.\n",
    "        # Don't forget to pass: initial_state = [hidden state, cell state] (≈ 1 line)\n",
    "        s, _, c = post_activation_LSTM_cell(context, initial_state = [s, c])\n",
    "        \n",
    "        # Step 2.C: Apply Dense layer to the hidden state output of the post-attention LSTM (≈ 1 line)\n",
    "        out = output_layer(s)\n",
    "        \n",
    "        # Step 2.D: Append \"out\" to the \"outputs\" list (≈ 1 line)\n",
    "        outputs.append(out)\n",
    "    \n",
    "    # Step 3: Create model instance taking three inputs and returning the list of outputs. (≈ 1 line)\n",
    "    model = Model([X, s0, c0], outputs)\n",
    "    \n",
    "    ### END CODE HERE ###\n",
    "    \n",
    "    return model"
   ]
  },
  {
   "cell_type": "markdown",
   "metadata": {},
   "source": [
    "Run the following cell to create your model."
   ]
  },
  {
   "cell_type": "code",
   "execution_count": 11,
   "metadata": {},
   "outputs": [],
   "source": [
    "model = model(Tx, Ty, n_a, n_s, len(human_vocab), len(machine_vocab))"
   ]
  },
  {
   "cell_type": "markdown",
   "metadata": {},
   "source": [
    "Let's get a summary of the model to check if it matches the expected output."
   ]
  },
  {
   "cell_type": "code",
   "execution_count": 12,
   "metadata": {},
   "outputs": [
    {
     "name": "stdout",
     "output_type": "stream",
     "text": [
      "__________________________________________________________________________________________________\n",
      "Layer (type)                    Output Shape         Param #     Connected to                     \n",
      "==================================================================================================\n",
      "input_1 (InputLayer)            (None, 30, 35)       0                                            \n",
      "__________________________________________________________________________________________________\n",
      "s0 (InputLayer)                 (None, 64)           0                                            \n",
      "__________________________________________________________________________________________________\n",
      "bidirectional_1 (Bidirectional) (None, 30, 64)       17408       input_1[0][0]                    \n",
      "__________________________________________________________________________________________________\n",
      "repeat_vector_1 (RepeatVector)  (None, 30, 64)       0           s0[0][0]                         \n",
      "                                                                 lstm_1[0][0]                     \n",
      "                                                                 lstm_1[1][0]                     \n",
      "                                                                 lstm_1[2][0]                     \n",
      "__________________________________________________________________________________________________\n",
      "concatenate_1 (Concatenate)     (None, 30, 128)      0           bidirectional_1[0][0]            \n",
      "                                                                 repeat_vector_1[0][0]            \n",
      "                                                                 bidirectional_1[0][0]            \n",
      "                                                                 repeat_vector_1[1][0]            \n",
      "                                                                 bidirectional_1[0][0]            \n",
      "                                                                 repeat_vector_1[2][0]            \n",
      "                                                                 bidirectional_1[0][0]            \n",
      "                                                                 repeat_vector_1[3][0]            \n",
      "__________________________________________________________________________________________________\n",
      "dense_1 (Dense)                 (None, 30, 10)       1290        concatenate_1[0][0]              \n",
      "                                                                 concatenate_1[1][0]              \n",
      "                                                                 concatenate_1[2][0]              \n",
      "                                                                 concatenate_1[3][0]              \n",
      "__________________________________________________________________________________________________\n",
      "dense_2 (Dense)                 (None, 30, 1)        11          dense_1[0][0]                    \n",
      "                                                                 dense_1[1][0]                    \n",
      "                                                                 dense_1[2][0]                    \n",
      "                                                                 dense_1[3][0]                    \n",
      "__________________________________________________________________________________________________\n",
      "attention_weights (Activation)  (None, 30, 1)        0           dense_2[0][0]                    \n",
      "                                                                 dense_2[1][0]                    \n",
      "                                                                 dense_2[2][0]                    \n",
      "                                                                 dense_2[3][0]                    \n",
      "__________________________________________________________________________________________________\n",
      "dot_1 (Dot)                     (None, 1, 64)        0           attention_weights[0][0]          \n",
      "                                                                 bidirectional_1[0][0]            \n",
      "                                                                 attention_weights[1][0]          \n",
      "                                                                 bidirectional_1[0][0]            \n",
      "                                                                 attention_weights[2][0]          \n",
      "                                                                 bidirectional_1[0][0]            \n",
      "                                                                 attention_weights[3][0]          \n",
      "                                                                 bidirectional_1[0][0]            \n",
      "__________________________________________________________________________________________________\n",
      "c0 (InputLayer)                 (None, 64)           0                                            \n",
      "__________________________________________________________________________________________________\n",
      "lstm_1 (LSTM)                   [(None, 64), (None,  33024       dot_1[0][0]                      \n",
      "                                                                 s0[0][0]                         \n",
      "                                                                 c0[0][0]                         \n",
      "                                                                 dot_1[1][0]                      \n",
      "                                                                 lstm_1[0][0]                     \n",
      "                                                                 lstm_1[0][2]                     \n",
      "                                                                 dot_1[2][0]                      \n",
      "                                                                 lstm_1[1][0]                     \n",
      "                                                                 lstm_1[1][2]                     \n",
      "                                                                 dot_1[3][0]                      \n",
      "                                                                 lstm_1[2][0]                     \n",
      "                                                                 lstm_1[2][2]                     \n",
      "__________________________________________________________________________________________________\n",
      "dense_3 (Dense)                 (None, 10)           650         lstm_1[0][0]                     \n",
      "                                                                 lstm_1[1][0]                     \n",
      "                                                                 lstm_1[2][0]                     \n",
      "                                                                 lstm_1[3][0]                     \n",
      "==================================================================================================\n",
      "Total params: 52,383\n",
      "Trainable params: 52,383\n",
      "Non-trainable params: 0\n",
      "__________________________________________________________________________________________________\n"
     ]
    }
   ],
   "source": [
    "model.summary()"
   ]
  },
  {
   "cell_type": "markdown",
   "metadata": {},
   "source": [
    "**Expected Output**:\n",
    "\n",
    "Here is the summary you should see\n",
    "<table>\n",
    "    <tr>\n",
    "        <td>\n",
    "            **Total params:**\n",
    "        </td>\n",
    "        <td>\n",
    "         52,960\n",
    "        </td>\n",
    "    </tr>\n",
    "        <tr>\n",
    "        <td>\n",
    "            **Trainable params:**\n",
    "        </td>\n",
    "        <td>\n",
    "         52,960\n",
    "        </td>\n",
    "    </tr>\n",
    "            <tr>\n",
    "        <td>\n",
    "            **Non-trainable params:**\n",
    "        </td>\n",
    "        <td>\n",
    "         0\n",
    "        </td>\n",
    "    </tr>\n",
    "                    <tr>\n",
    "        <td>\n",
    "            **bidirectional_1's output shape **\n",
    "        </td>\n",
    "        <td>\n",
    "         (None, 30, 64)  \n",
    "        </td>\n",
    "    </tr>\n",
    "    <tr>\n",
    "        <td>\n",
    "            **repeat_vector_1's output shape **\n",
    "        </td>\n",
    "        <td>\n",
    "         (None, 30, 64) \n",
    "        </td>\n",
    "    </tr>\n",
    "                <tr>\n",
    "        <td>\n",
    "            **concatenate_1's output shape **\n",
    "        </td>\n",
    "        <td>\n",
    "         (None, 30, 128) \n",
    "        </td>\n",
    "    </tr>\n",
    "            <tr>\n",
    "        <td>\n",
    "            **attention_weights's output shape **\n",
    "        </td>\n",
    "        <td>\n",
    "         (None, 30, 1)  \n",
    "        </td>\n",
    "    </tr>\n",
    "        <tr>\n",
    "        <td>\n",
    "            **dot_1's output shape **\n",
    "        </td>\n",
    "        <td>\n",
    "         (None, 1, 64)\n",
    "        </td>\n",
    "    </tr>\n",
    "           <tr>\n",
    "        <td>\n",
    "            **dense_3's output shape **\n",
    "        </td>\n",
    "        <td>\n",
    "         (None, 11) \n",
    "        </td>\n",
    "    </tr>\n",
    "</table>\n"
   ]
  },
  {
   "cell_type": "markdown",
   "metadata": {},
   "source": [
    "As usual, after creating your model in Keras, you need to compile it and define what loss, optimizer and metrics your are want to use. Compile your model using `categorical_crossentropy` loss, a custom [Adam](https://keras.io/optimizers/#adam) [optimizer](https://keras.io/optimizers/#usage-of-optimizers) (`learning rate = 0.005`, $\\beta_1 = 0.9$, $\\beta_2 = 0.999$, `decay = 0.01`)  and `['accuracy']` metrics:"
   ]
  },
  {
   "cell_type": "code",
   "execution_count": 13,
   "metadata": {},
   "outputs": [],
   "source": [
    "### START CODE HERE ### (≈2 lines)\n",
    "opt = model.compile(optimizer=Adam(lr=0.01, beta_1=0.9, beta_2=0.999, decay=0.0),\n",
    "                   metrics=['accuracy'],\n",
    "                   loss='categorical_crossentropy')\n",
    "opt\n",
    "### END CODE HERE ###"
   ]
  },
  {
   "cell_type": "markdown",
   "metadata": {},
   "source": [
    "The last step is to define all your inputs and outputs to fit the model:\n",
    "- You already have X of shape $(m = 10000, T_x = 30)$ containing the training examples.\n",
    "- You need to create `s0` and `c0` to initialize your `post_activation_LSTM_cell` with 0s.\n",
    "- Given the `model()` you coded, you need the \"outputs\" to be a list of 11 elements of shape (m, T_y). So that: `outputs[i][0], ..., outputs[i][Ty]` represent the true labels (characters) corresponding to the $i^{th}$ training example (`X[i]`). More generally, `outputs[i][j]` is the true label of the $j^{th}$ character in the $i^{th}$ training example."
   ]
  },
  {
   "cell_type": "code",
   "execution_count": 14,
   "metadata": {},
   "outputs": [],
   "source": [
    "s0 = np.zeros((m, n_s))\n",
    "c0 = np.zeros((m, n_s))\n",
    "outputs = list(Yoh.swapaxes(0,1))"
   ]
  },
  {
   "cell_type": "markdown",
   "metadata": {},
   "source": [
    "Let's now fit the model and run it for one epoch."
   ]
  },
  {
   "cell_type": "code",
   "execution_count": 15,
   "metadata": {},
   "outputs": [],
   "source": [
    "# model.load_weights('models/model.h5')"
   ]
  },
  {
   "cell_type": "code",
   "execution_count": 16,
   "metadata": {},
   "outputs": [
    {
     "name": "stdout",
     "output_type": "stream",
     "text": [
      "Train on 45000 samples, validate on 5000 samples\n",
      "Epoch 1/7\n",
      "45000/45000 [==============================] - ETA: 2:54 - loss: 9.2031 - dense_3_loss: 2.3035 - dense_3_acc: 0.5300 - dense_3_acc_1: 0.0000e+00 - dense_3_acc_2: 0.1410 - dense_3_acc_3: 0.09 - ETA: 1:32 - loss: 9.1266 - dense_3_loss: 2.3088 - dense_3_acc: 0.2650 - dense_3_acc_1: 0.1860 - dense_3_acc_2: 0.1705 - dense_3_acc_3: 0.1030   - ETA: 1:04 - loss: 9.0172 - dense_3_loss: 2.3234 - dense_3_acc: 0.1767 - dense_3_acc_1: 0.2543 - dense_3_acc_2: 0.1833 - dense_3_acc_3: 0.10 - ETA: 50s - loss: 8.9130 - dense_3_loss: 2.3999 - dense_3_acc: 0.1325 - dense_3_acc_1: 0.2850 - dense_3_acc_2: 0.1890 - dense_3_acc_3: 0.1058 - ETA: 42s - loss: 8.8092 - dense_3_loss: 2.4908 - dense_3_acc: 0.1060 - dense_3_acc_1: 0.3526 - dense_3_acc_2: 0.1962 - dense_3_acc_3: 0.100 - ETA: 36s - loss: 8.7198 - dense_3_loss: 2.5392 - dense_3_acc: 0.0883 - dense_3_acc_1: 0.3935 - dense_3_acc_2: 0.1963 - dense_3_acc_3: 0.098 - ETA: 32s - loss: 8.6148 - dense_3_loss: 2.5459 - dense_3_acc: 0.0757 - dense_3_acc_1: 0.4291 - dense_3_acc_2: 0.2010 - dense_3_acc_3: 0.096 - ETA: 29s - loss: 8.5333 - dense_3_loss: 2.5641 - dense_3_acc: 0.0662 - dense_3_acc_1: 0.4536 - dense_3_acc_2: 0.1993 - dense_3_acc_3: 0.095 - ETA: 26s - loss: 8.4377 - dense_3_loss: 2.5735 - dense_3_acc: 0.0656 - dense_3_acc_1: 0.4752 - dense_3_acc_2: 0.2118 - dense_3_acc_3: 0.095 - ETA: 24s - loss: 8.3384 - dense_3_loss: 2.5878 - dense_3_acc: 0.0878 - dense_3_acc_1: 0.4933 - dense_3_acc_2: 0.2142 - dense_3_acc_3: 0.094 - ETA: 22s - loss: 8.2311 - dense_3_loss: 2.5969 - dense_3_acc: 0.1357 - dense_3_acc_1: 0.5044 - dense_3_acc_2: 0.2171 - dense_3_acc_3: 0.093 - ETA: 21s - loss: 8.1489 - dense_3_loss: 2.6237 - dense_3_acc: 0.1758 - dense_3_acc_1: 0.5050 - dense_3_acc_2: 0.2167 - dense_3_acc_3: 0.094 - ETA: 19s - loss: 8.0392 - dense_3_loss: 2.6258 - dense_3_acc: 0.2086 - dense_3_acc_1: 0.5125 - dense_3_acc_2: 0.2203 - dense_3_acc_3: 0.092 - ETA: 18s - loss: 7.9273 - dense_3_loss: 2.6185 - dense_3_acc: 0.2390 - dense_3_acc_1: 0.5212 - dense_3_acc_2: 0.2191 - dense_3_acc_3: 0.091 - ETA: 17s - loss: 7.8059 - dense_3_loss: 2.6077 - dense_3_acc: 0.2642 - dense_3_acc_1: 0.5337 - dense_3_acc_2: 0.2329 - dense_3_acc_3: 0.093 - ETA: 16s - loss: 7.6855 - dense_3_loss: 2.5953 - dense_3_acc: 0.2867 - dense_3_acc_1: 0.5569 - dense_3_acc_2: 0.2379 - dense_3_acc_3: 0.095 - ETA: 15s - loss: 7.5649 - dense_3_loss: 2.5829 - dense_3_acc: 0.3066 - dense_3_acc_1: 0.5789 - dense_3_acc_2: 0.2392 - dense_3_acc_3: 0.096 - ETA: 14s - loss: 7.4439 - dense_3_loss: 2.5713 - dense_3_acc: 0.3231 - dense_3_acc_1: 0.5853 - dense_3_acc_2: 0.2484 - dense_3_acc_3: 0.097 - ETA: 13s - loss: 7.3220 - dense_3_loss: 2.5616 - dense_3_acc: 0.3390 - dense_3_acc_1: 0.5969 - dense_3_acc_2: 0.2567 - dense_3_acc_3: 0.098 - ETA: 12s - loss: 7.2118 - dense_3_loss: 2.5580 - dense_3_acc: 0.3647 - dense_3_acc_1: 0.6119 - dense_3_acc_2: 0.2599 - dense_3_acc_3: 0.100 - ETA: 12s - loss: 7.0952 - dense_3_loss: 2.5528 - dense_3_acc: 0.3887 - dense_3_acc_1: 0.6257 - dense_3_acc_2: 0.2667 - dense_3_acc_3: 0.100 - ETA: 11s - loss: 6.9818 - dense_3_loss: 2.5484 - dense_3_acc: 0.4124 - dense_3_acc_1: 0.6391 - dense_3_acc_2: 0.2746 - dense_3_acc_3: 0.101 - ETA: 10s - loss: 6.8804 - dense_3_loss: 2.5447 - dense_3_acc: 0.4339 - dense_3_acc_1: 0.6499 - dense_3_acc_2: 0.2787 - dense_3_acc_3: 0.101 - ETA: 10s - loss: 6.7755 - dense_3_loss: 2.5425 - dense_3_acc: 0.4549 - dense_3_acc_1: 0.6623 - dense_3_acc_2: 0.2854 - dense_3_acc_3: 0.102 - ETA: 9s - loss: 6.6737 - dense_3_loss: 2.5384 - dense_3_acc: 0.4738 - dense_3_acc_1: 0.6735 - dense_3_acc_2: 0.2909 - dense_3_acc_3: 0.102 - ETA: 8s - loss: 6.5752 - dense_3_loss: 2.5344 - dense_3_acc: 0.4922 - dense_3_acc_1: 0.6835 - dense_3_acc_2: 0.2956 - dense_3_acc_3: 0.10 - ETA: 8s - loss: 6.4755 - dense_3_loss: 2.5292 - dense_3_acc: 0.5101 - dense_3_acc_1: 0.6942 - dense_3_acc_2: 0.3019 - dense_3_acc_3: 0.10 - ETA: 7s - loss: 6.3788 - dense_3_loss: 2.5232 - dense_3_acc: 0.5267 - dense_3_acc_1: 0.7044 - dense_3_acc_2: 0.3065 - dense_3_acc_3: 0.10 - ETA: 7s - loss: 6.2856 - dense_3_loss: 2.5184 - dense_3_acc: 0.5426 - dense_3_acc_1: 0.7140 - dense_3_acc_2: 0.3109 - dense_3_acc_3: 0.10 - ETA: 6s - loss: 6.1947 - dense_3_loss: 2.5124 - dense_3_acc: 0.5573 - dense_3_acc_1: 0.7230 - dense_3_acc_2: 0.3154 - dense_3_acc_3: 0.10 - ETA: 6s - loss: 6.1103 - dense_3_loss: 2.5094 - dense_3_acc: 0.5712 - dense_3_acc_1: 0.7316 - dense_3_acc_2: 0.3215 - dense_3_acc_3: 0.10 - ETA: 5s - loss: 6.0280 - dense_3_loss: 2.5041 - dense_3_acc: 0.5842 - dense_3_acc_1: 0.7395 - dense_3_acc_2: 0.3263 - dense_3_acc_3: 0.10 - ETA: 5s - loss: 5.9475 - dense_3_loss: 2.4979 - dense_3_acc: 0.5964 - dense_3_acc_1: 0.7471 - dense_3_acc_2: 0.3332 - dense_3_acc_3: 0.10 - ETA: 4s - loss: 5.8700 - dense_3_loss: 2.4919 - dense_3_acc: 0.6081 - dense_3_acc_1: 0.7543 - dense_3_acc_2: 0.3378 - dense_3_acc_3: 0.10 - ETA: 4s - loss: 5.7977 - dense_3_loss: 2.4866 - dense_3_acc: 0.6191 - dense_3_acc_1: 0.7611 - dense_3_acc_2: 0.3411 - dense_3_acc_3: 0.11 - ETA: 3s - loss: 5.7490 - dense_3_loss: 2.4822 - dense_3_acc: 0.6267 - dense_3_acc_1: 0.7643 - dense_3_acc_2: 0.3413 - dense_3_acc_3: 0.11 - ETA: 3s - loss: 5.7024 - dense_3_loss: 2.4798 - dense_3_acc: 0.6356 - dense_3_acc_1: 0.7692 - dense_3_acc_2: 0.3426 - dense_3_acc_3: 0.11 - ETA: 2s - loss: 5.6415 - dense_3_loss: 2.4754 - dense_3_acc: 0.6449 - dense_3_acc_1: 0.7749 - dense_3_acc_2: 0.3468 - dense_3_acc_3: 0.11 - ETA: 2s - loss: 5.5888 - dense_3_loss: 2.4757 - dense_3_acc: 0.6538 - dense_3_acc_1: 0.7805 - dense_3_acc_2: 0.3499 - dense_3_acc_3: 0.11 - ETA: 2s - loss: 5.5438 - dense_3_loss: 2.4727 - dense_3_acc: 0.6616 - dense_3_acc_1: 0.7853 - dense_3_acc_2: 0.3506 - dense_3_acc_3: 0.11 - ETA: 1s - loss: 5.4929 - dense_3_loss: 2.4690 - dense_3_acc: 0.6695 - dense_3_acc_1: 0.7902 - dense_3_acc_2: 0.3533 - dense_3_acc_3: 0.10 - ETA: 1s - loss: 5.4400 - dense_3_loss: 2.4653 - dense_3_acc: 0.6774 - dense_3_acc_1: 0.7951 - dense_3_acc_2: 0.3578 - dense_3_acc_3: 0.10 - ETA: 0s - loss: 5.3931 - dense_3_loss: 2.4617 - dense_3_acc: 0.6847 - dense_3_acc_1: 0.7996 - dense_3_acc_2: 0.3593 - dense_3_acc_3: 0.10 - ETA: 0s - loss: 5.3511 - dense_3_loss: 2.4579 - dense_3_acc: 0.6911 - dense_3_acc_1: 0.8034 - dense_3_acc_2: 0.3611 - dense_3_acc_3: 0.10 - 19s 427us/step - loss: 5.3077 - dense_3_loss: 2.4542 - dense_3_acc: 0.6976 - dense_3_acc_1: 0.8074 - dense_3_acc_2: 0.3629 - dense_3_acc_3: 0.1097 - val_loss: 3.3033 - val_dense_3_loss: 2.2789 - val_dense_3_acc: 0.9916 - val_dense_3_acc_1: 0.9922 - val_dense_3_acc_2: 0.4864 - val_dense_3_acc_3: 0.1306\n",
      "Epoch 2/7\n"
     ]
    },
    {
     "name": "stdout",
     "output_type": "stream",
     "text": [
      "45000/45000 [==============================] - ETA: 14s - loss: 3.3070 - dense_3_loss: 2.2891 - dense_3_acc: 0.9960 - dense_3_acc_1: 0.9960 - dense_3_acc_2: 0.4910 - dense_3_acc_3: 0.110 - ETA: 13s - loss: 3.2947 - dense_3_loss: 2.2815 - dense_3_acc: 0.9960 - dense_3_acc_1: 0.9960 - dense_3_acc_2: 0.4920 - dense_3_acc_3: 0.115 - ETA: 13s - loss: 3.2922 - dense_3_loss: 2.2824 - dense_3_acc: 0.9967 - dense_3_acc_1: 0.9967 - dense_3_acc_2: 0.4790 - dense_3_acc_3: 0.113 - ETA: 13s - loss: 3.2911 - dense_3_loss: 2.2854 - dense_3_acc: 0.9970 - dense_3_acc_1: 0.9970 - dense_3_acc_2: 0.4838 - dense_3_acc_3: 0.115 - ETA: 12s - loss: 3.2866 - dense_3_loss: 2.2854 - dense_3_acc: 0.9972 - dense_3_acc_1: 0.9972 - dense_3_acc_2: 0.4820 - dense_3_acc_3: 0.122 - ETA: 12s - loss: 3.2860 - dense_3_loss: 2.2885 - dense_3_acc: 0.9972 - dense_3_acc_1: 0.9972 - dense_3_acc_2: 0.4855 - dense_3_acc_3: 0.124 - ETA: 12s - loss: 3.2846 - dense_3_loss: 2.2929 - dense_3_acc: 0.9973 - dense_3_acc_1: 0.9970 - dense_3_acc_2: 0.4907 - dense_3_acc_3: 0.124 - ETA: 11s - loss: 3.2781 - dense_3_loss: 2.2947 - dense_3_acc: 0.9975 - dense_3_acc_1: 0.9970 - dense_3_acc_2: 0.4924 - dense_3_acc_3: 0.130 - ETA: 11s - loss: 3.2670 - dense_3_loss: 2.2947 - dense_3_acc: 0.9976 - dense_3_acc_1: 0.9971 - dense_3_acc_2: 0.5006 - dense_3_acc_3: 0.131 - ETA: 11s - loss: 3.2638 - dense_3_loss: 2.2938 - dense_3_acc: 0.9974 - dense_3_acc_1: 0.9968 - dense_3_acc_2: 0.5035 - dense_3_acc_3: 0.131 - ETA: 10s - loss: 3.2581 - dense_3_loss: 2.2909 - dense_3_acc: 0.9972 - dense_3_acc_1: 0.9966 - dense_3_acc_2: 0.5033 - dense_3_acc_3: 0.132 - ETA: 10s - loss: 3.2501 - dense_3_loss: 2.2886 - dense_3_acc: 0.9973 - dense_3_acc_1: 0.9968 - dense_3_acc_2: 0.5055 - dense_3_acc_3: 0.132 - ETA: 10s - loss: 3.2385 - dense_3_loss: 2.2860 - dense_3_acc: 0.9975 - dense_3_acc_1: 0.9969 - dense_3_acc_2: 0.5125 - dense_3_acc_3: 0.133 - ETA: 9s - loss: 3.2272 - dense_3_loss: 2.2827 - dense_3_acc: 0.9976 - dense_3_acc_1: 0.9971 - dense_3_acc_2: 0.5233 - dense_3_acc_3: 0.134 - ETA: 9s - loss: 3.2184 - dense_3_loss: 2.2801 - dense_3_acc: 0.9977 - dense_3_acc_1: 0.9973 - dense_3_acc_2: 0.5307 - dense_3_acc_3: 0.13 - ETA: 9s - loss: 3.2104 - dense_3_loss: 2.2772 - dense_3_acc: 0.9979 - dense_3_acc_1: 0.9974 - dense_3_acc_2: 0.5354 - dense_3_acc_3: 0.13 - ETA: 8s - loss: 3.2017 - dense_3_loss: 2.2737 - dense_3_acc: 0.9979 - dense_3_acc_1: 0.9975 - dense_3_acc_2: 0.5396 - dense_3_acc_3: 0.14 - ETA: 8s - loss: 3.1921 - dense_3_loss: 2.2712 - dense_3_acc: 0.9981 - dense_3_acc_1: 0.9977 - dense_3_acc_2: 0.5464 - dense_3_acc_3: 0.14 - ETA: 8s - loss: 3.1811 - dense_3_loss: 2.2674 - dense_3_acc: 0.9982 - dense_3_acc_1: 0.9978 - dense_3_acc_2: 0.5549 - dense_3_acc_3: 0.14 - ETA: 7s - loss: 3.1701 - dense_3_loss: 2.2633 - dense_3_acc: 0.9983 - dense_3_acc_1: 0.9979 - dense_3_acc_2: 0.5613 - dense_3_acc_3: 0.14 - ETA: 7s - loss: 3.1589 - dense_3_loss: 2.2597 - dense_3_acc: 0.9983 - dense_3_acc_1: 0.9980 - dense_3_acc_2: 0.5672 - dense_3_acc_3: 0.15 - ETA: 7s - loss: 3.1495 - dense_3_loss: 2.2565 - dense_3_acc: 0.9983 - dense_3_acc_1: 0.9980 - dense_3_acc_2: 0.5701 - dense_3_acc_3: 0.15 - ETA: 6s - loss: 3.1373 - dense_3_loss: 2.2522 - dense_3_acc: 0.9983 - dense_3_acc_1: 0.9980 - dense_3_acc_2: 0.5765 - dense_3_acc_3: 0.15 - ETA: 6s - loss: 3.1284 - dense_3_loss: 2.2506 - dense_3_acc: 0.9984 - dense_3_acc_1: 0.9981 - dense_3_acc_2: 0.5805 - dense_3_acc_3: 0.15 - ETA: 6s - loss: 3.1186 - dense_3_loss: 2.2470 - dense_3_acc: 0.9985 - dense_3_acc_1: 0.9982 - dense_3_acc_2: 0.5831 - dense_3_acc_3: 0.15 - ETA: 6s - loss: 3.1085 - dense_3_loss: 2.2442 - dense_3_acc: 0.9985 - dense_3_acc_1: 0.9983 - dense_3_acc_2: 0.5865 - dense_3_acc_3: 0.15 - ETA: 5s - loss: 3.0987 - dense_3_loss: 2.2422 - dense_3_acc: 0.9986 - dense_3_acc_1: 0.9983 - dense_3_acc_2: 0.5920 - dense_3_acc_3: 0.16 - ETA: 5s - loss: 3.0879 - dense_3_loss: 2.2378 - dense_3_acc: 0.9986 - dense_3_acc_1: 0.9984 - dense_3_acc_2: 0.5950 - dense_3_acc_3: 0.16 - ETA: 5s - loss: 3.0779 - dense_3_loss: 2.2345 - dense_3_acc: 0.9987 - dense_3_acc_1: 0.9984 - dense_3_acc_2: 0.5982 - dense_3_acc_3: 0.16 - ETA: 4s - loss: 3.0658 - dense_3_loss: 2.2295 - dense_3_acc: 0.9987 - dense_3_acc_1: 0.9985 - dense_3_acc_2: 0.6019 - dense_3_acc_3: 0.16 - ETA: 4s - loss: 3.0556 - dense_3_loss: 2.2254 - dense_3_acc: 0.9987 - dense_3_acc_1: 0.9985 - dense_3_acc_2: 0.6059 - dense_3_acc_3: 0.16 - ETA: 4s - loss: 3.0442 - dense_3_loss: 2.2207 - dense_3_acc: 0.9988 - dense_3_acc_1: 0.9986 - dense_3_acc_2: 0.6103 - dense_3_acc_3: 0.16 - ETA: 3s - loss: 3.0349 - dense_3_loss: 2.2175 - dense_3_acc: 0.9988 - dense_3_acc_1: 0.9986 - dense_3_acc_2: 0.6140 - dense_3_acc_3: 0.16 - ETA: 3s - loss: 3.0251 - dense_3_loss: 2.2134 - dense_3_acc: 0.9989 - dense_3_acc_1: 0.9986 - dense_3_acc_2: 0.6173 - dense_3_acc_3: 0.17 - ETA: 3s - loss: 3.0159 - dense_3_loss: 2.2096 - dense_3_acc: 0.9989 - dense_3_acc_1: 0.9987 - dense_3_acc_2: 0.6208 - dense_3_acc_3: 0.17 - ETA: 2s - loss: 3.0050 - dense_3_loss: 2.2056 - dense_3_acc: 0.9989 - dense_3_acc_1: 0.9987 - dense_3_acc_2: 0.6251 - dense_3_acc_3: 0.17 - ETA: 2s - loss: 2.9971 - dense_3_loss: 2.2026 - dense_3_acc: 0.9989 - dense_3_acc_1: 0.9988 - dense_3_acc_2: 0.6281 - dense_3_acc_3: 0.17 - ETA: 2s - loss: 2.9877 - dense_3_loss: 2.1987 - dense_3_acc: 0.9989 - dense_3_acc_1: 0.9988 - dense_3_acc_2: 0.6314 - dense_3_acc_3: 0.17 - ETA: 1s - loss: 2.9786 - dense_3_loss: 2.1953 - dense_3_acc: 0.9990 - dense_3_acc_1: 0.9988 - dense_3_acc_2: 0.6352 - dense_3_acc_3: 0.17 - ETA: 1s - loss: 2.9681 - dense_3_loss: 2.1911 - dense_3_acc: 0.9990 - dense_3_acc_1: 0.9988 - dense_3_acc_2: 0.6394 - dense_3_acc_3: 0.17 - ETA: 1s - loss: 2.9601 - dense_3_loss: 2.1878 - dense_3_acc: 0.9990 - dense_3_acc_1: 0.9989 - dense_3_acc_2: 0.6429 - dense_3_acc_3: 0.17 - ETA: 0s - loss: 2.9503 - dense_3_loss: 2.1842 - dense_3_acc: 0.9990 - dense_3_acc_1: 0.9989 - dense_3_acc_2: 0.6475 - dense_3_acc_3: 0.18 - ETA: 0s - loss: 2.9418 - dense_3_loss: 2.1817 - dense_3_acc: 0.9991 - dense_3_acc_1: 0.9989 - dense_3_acc_2: 0.6507 - dense_3_acc_3: 0.18 - ETA: 0s - loss: 2.9334 - dense_3_loss: 2.1778 - dense_3_acc: 0.9991 - dense_3_acc_1: 0.9989 - dense_3_acc_2: 0.6536 - dense_3_acc_3: 0.18 - 15s 335us/step - loss: 2.9244 - dense_3_loss: 2.1733 - dense_3_acc: 0.9991 - dense_3_acc_1: 0.9990 - dense_3_acc_2: 0.6559 - dense_3_acc_3: 0.1851 - val_loss: 2.4950 - val_dense_3_loss: 1.9545 - val_dense_3_acc: 1.0000 - val_dense_3_acc_1: 1.0000 - val_dense_3_acc_2: 0.7532 - val_dense_3_acc_3: 0.2848\n",
      "Epoch 3/7\n"
     ]
    },
    {
     "name": "stdout",
     "output_type": "stream",
     "text": [
      "45000/45000 [==============================] - ETA: 13s - loss: 2.4393 - dense_3_loss: 1.9388 - dense_3_acc: 1.0000 - dense_3_acc_1: 1.0000 - dense_3_acc_2: 0.7760 - dense_3_acc_3: 0.289 - ETA: 13s - loss: 2.4533 - dense_3_loss: 1.9430 - dense_3_acc: 1.0000 - dense_3_acc_1: 1.0000 - dense_3_acc_2: 0.7810 - dense_3_acc_3: 0.265 - ETA: 13s - loss: 2.4377 - dense_3_loss: 1.9387 - dense_3_acc: 1.0000 - dense_3_acc_1: 1.0000 - dense_3_acc_2: 0.8040 - dense_3_acc_3: 0.257 - ETA: 12s - loss: 2.4151 - dense_3_loss: 1.9276 - dense_3_acc: 1.0000 - dense_3_acc_1: 1.0000 - dense_3_acc_2: 0.8145 - dense_3_acc_3: 0.276 - ETA: 12s - loss: 2.4078 - dense_3_loss: 1.9297 - dense_3_acc: 1.0000 - dense_3_acc_1: 1.0000 - dense_3_acc_2: 0.8254 - dense_3_acc_3: 0.273 - ETA: 12s - loss: 2.3970 - dense_3_loss: 1.9231 - dense_3_acc: 1.0000 - dense_3_acc_1: 1.0000 - dense_3_acc_2: 0.8313 - dense_3_acc_3: 0.271 - ETA: 11s - loss: 2.3831 - dense_3_loss: 1.9117 - dense_3_acc: 1.0000 - dense_3_acc_1: 1.0000 - dense_3_acc_2: 0.8346 - dense_3_acc_3: 0.278 - ETA: 11s - loss: 2.3718 - dense_3_loss: 1.9042 - dense_3_acc: 1.0000 - dense_3_acc_1: 1.0000 - dense_3_acc_2: 0.8381 - dense_3_acc_3: 0.280 - ETA: 11s - loss: 2.3499 - dense_3_loss: 1.8920 - dense_3_acc: 1.0000 - dense_3_acc_1: 1.0000 - dense_3_acc_2: 0.8437 - dense_3_acc_3: 0.282 - ETA: 11s - loss: 2.3367 - dense_3_loss: 1.8845 - dense_3_acc: 1.0000 - dense_3_acc_1: 1.0000 - dense_3_acc_2: 0.8464 - dense_3_acc_3: 0.291 - ETA: 10s - loss: 2.3209 - dense_3_loss: 1.8723 - dense_3_acc: 1.0000 - dense_3_acc_1: 1.0000 - dense_3_acc_2: 0.8457 - dense_3_acc_3: 0.296 - ETA: 10s - loss: 2.2999 - dense_3_loss: 1.8588 - dense_3_acc: 1.0000 - dense_3_acc_1: 1.0000 - dense_3_acc_2: 0.8503 - dense_3_acc_3: 0.303 - ETA: 10s - loss: 2.2801 - dense_3_loss: 1.8469 - dense_3_acc: 1.0000 - dense_3_acc_1: 1.0000 - dense_3_acc_2: 0.8528 - dense_3_acc_3: 0.310 - ETA: 9s - loss: 2.2607 - dense_3_loss: 1.8352 - dense_3_acc: 1.0000 - dense_3_acc_1: 1.0000 - dense_3_acc_2: 0.8570 - dense_3_acc_3: 0.316 - ETA: 9s - loss: 2.2422 - dense_3_loss: 1.8246 - dense_3_acc: 1.0000 - dense_3_acc_1: 1.0000 - dense_3_acc_2: 0.8605 - dense_3_acc_3: 0.31 - ETA: 9s - loss: 2.2209 - dense_3_loss: 1.8121 - dense_3_acc: 1.0000 - dense_3_acc_1: 1.0000 - dense_3_acc_2: 0.8648 - dense_3_acc_3: 0.32 - ETA: 8s - loss: 2.1997 - dense_3_loss: 1.7990 - dense_3_acc: 1.0000 - dense_3_acc_1: 1.0000 - dense_3_acc_2: 0.8677 - dense_3_acc_3: 0.32 - ETA: 8s - loss: 2.1774 - dense_3_loss: 1.7855 - dense_3_acc: 1.0000 - dense_3_acc_1: 1.0000 - dense_3_acc_2: 0.8709 - dense_3_acc_3: 0.32 - ETA: 8s - loss: 2.1567 - dense_3_loss: 1.7723 - dense_3_acc: 1.0000 - dense_3_acc_1: 1.0000 - dense_3_acc_2: 0.8737 - dense_3_acc_3: 0.33 - ETA: 7s - loss: 2.1350 - dense_3_loss: 1.7584 - dense_3_acc: 1.0000 - dense_3_acc_1: 1.0000 - dense_3_acc_2: 0.8764 - dense_3_acc_3: 0.34 - ETA: 7s - loss: 2.1158 - dense_3_loss: 1.7450 - dense_3_acc: 1.0000 - dense_3_acc_1: 1.0000 - dense_3_acc_2: 0.8786 - dense_3_acc_3: 0.34 - ETA: 7s - loss: 2.0937 - dense_3_loss: 1.7300 - dense_3_acc: 1.0000 - dense_3_acc_1: 1.0000 - dense_3_acc_2: 0.8809 - dense_3_acc_3: 0.35 - ETA: 7s - loss: 2.0752 - dense_3_loss: 1.7174 - dense_3_acc: 1.0000 - dense_3_acc_1: 1.0000 - dense_3_acc_2: 0.8823 - dense_3_acc_3: 0.35 - ETA: 6s - loss: 2.0531 - dense_3_loss: 1.7013 - dense_3_acc: 1.0000 - dense_3_acc_1: 1.0000 - dense_3_acc_2: 0.8844 - dense_3_acc_3: 0.36 - ETA: 6s - loss: 2.0324 - dense_3_loss: 1.6857 - dense_3_acc: 1.0000 - dense_3_acc_1: 1.0000 - dense_3_acc_2: 0.8864 - dense_3_acc_3: 0.37 - ETA: 6s - loss: 2.0103 - dense_3_loss: 1.6689 - dense_3_acc: 1.0000 - dense_3_acc_1: 1.0000 - dense_3_acc_2: 0.8883 - dense_3_acc_3: 0.37 - ETA: 5s - loss: 1.9901 - dense_3_loss: 1.6529 - dense_3_acc: 1.0000 - dense_3_acc_1: 1.0000 - dense_3_acc_2: 0.8891 - dense_3_acc_3: 0.38 - ETA: 5s - loss: 1.9674 - dense_3_loss: 1.6354 - dense_3_acc: 1.0000 - dense_3_acc_1: 1.0000 - dense_3_acc_2: 0.8906 - dense_3_acc_3: 0.39 - ETA: 5s - loss: 1.9466 - dense_3_loss: 1.6193 - dense_3_acc: 1.0000 - dense_3_acc_1: 1.0000 - dense_3_acc_2: 0.8922 - dense_3_acc_3: 0.39 - ETA: 4s - loss: 1.9250 - dense_3_loss: 1.6022 - dense_3_acc: 1.0000 - dense_3_acc_1: 1.0000 - dense_3_acc_2: 0.8933 - dense_3_acc_3: 0.40 - ETA: 4s - loss: 1.9051 - dense_3_loss: 1.5868 - dense_3_acc: 1.0000 - dense_3_acc_1: 1.0000 - dense_3_acc_2: 0.8946 - dense_3_acc_3: 0.41 - ETA: 4s - loss: 1.8860 - dense_3_loss: 1.5707 - dense_3_acc: 1.0000 - dense_3_acc_1: 1.0000 - dense_3_acc_2: 0.8952 - dense_3_acc_3: 0.41 - ETA: 3s - loss: 1.8660 - dense_3_loss: 1.5551 - dense_3_acc: 1.0000 - dense_3_acc_1: 1.0000 - dense_3_acc_2: 0.8967 - dense_3_acc_3: 0.42 - ETA: 3s - loss: 1.8461 - dense_3_loss: 1.5395 - dense_3_acc: 1.0000 - dense_3_acc_1: 1.0000 - dense_3_acc_2: 0.8980 - dense_3_acc_3: 0.43 - ETA: 3s - loss: 1.8286 - dense_3_loss: 1.5243 - dense_3_acc: 1.0000 - dense_3_acc_1: 1.0000 - dense_3_acc_2: 0.8984 - dense_3_acc_3: 0.43 - ETA: 2s - loss: 1.8087 - dense_3_loss: 1.5082 - dense_3_acc: 1.0000 - dense_3_acc_1: 1.0000 - dense_3_acc_2: 0.8993 - dense_3_acc_3: 0.44 - ETA: 2s - loss: 1.7943 - dense_3_loss: 1.4954 - dense_3_acc: 1.0000 - dense_3_acc_1: 1.0000 - dense_3_acc_2: 0.8997 - dense_3_acc_3: 0.44 - ETA: 2s - loss: 1.7773 - dense_3_loss: 1.4807 - dense_3_acc: 1.0000 - dense_3_acc_1: 1.0000 - dense_3_acc_2: 0.9002 - dense_3_acc_3: 0.45 - ETA: 1s - loss: 1.7602 - dense_3_loss: 1.4664 - dense_3_acc: 1.0000 - dense_3_acc_1: 1.0000 - dense_3_acc_2: 0.9008 - dense_3_acc_3: 0.46 - ETA: 1s - loss: 1.7429 - dense_3_loss: 1.4515 - dense_3_acc: 1.0000 - dense_3_acc_1: 1.0000 - dense_3_acc_2: 0.9009 - dense_3_acc_3: 0.46 - ETA: 1s - loss: 1.7256 - dense_3_loss: 1.4368 - dense_3_acc: 1.0000 - dense_3_acc_1: 1.0000 - dense_3_acc_2: 0.9015 - dense_3_acc_3: 0.47 - ETA: 0s - loss: 1.7076 - dense_3_loss: 1.4212 - dense_3_acc: 1.0000 - dense_3_acc_1: 1.0000 - dense_3_acc_2: 0.9019 - dense_3_acc_3: 0.47 - ETA: 0s - loss: 1.6936 - dense_3_loss: 1.4096 - dense_3_acc: 1.0000 - dense_3_acc_1: 1.0000 - dense_3_acc_2: 0.9023 - dense_3_acc_3: 0.48 - ETA: 0s - loss: 1.6822 - dense_3_loss: 1.3999 - dense_3_acc: 1.0000 - dense_3_acc_1: 1.0000 - dense_3_acc_2: 0.9028 - dense_3_acc_3: 0.48 - 15s 334us/step - loss: 1.6674 - dense_3_loss: 1.3872 - dense_3_acc: 1.0000 - dense_3_acc_1: 1.0000 - dense_3_acc_2: 0.9031 - dense_3_acc_3: 0.4888 - val_loss: 0.8996 - val_dense_3_loss: 0.7597 - val_dense_3_acc: 1.0000 - val_dense_3_acc_1: 1.0000 - val_dense_3_acc_2: 0.9434 - val_dense_3_acc_3: 0.7324\n",
      "Epoch 4/7\n"
     ]
    },
    {
     "name": "stdout",
     "output_type": "stream",
     "text": [
      "45000/45000 [==============================] - ETA: 13s - loss: 0.8889 - dense_3_loss: 0.7357 - dense_3_acc: 1.0000 - dense_3_acc_1: 1.0000 - dense_3_acc_2: 0.9460 - dense_3_acc_3: 0.741 - ETA: 13s - loss: 0.9174 - dense_3_loss: 0.7530 - dense_3_acc: 1.0000 - dense_3_acc_1: 1.0000 - dense_3_acc_2: 0.9365 - dense_3_acc_3: 0.715 - ETA: 13s - loss: 0.8684 - dense_3_loss: 0.7156 - dense_3_acc: 1.0000 - dense_3_acc_1: 1.0000 - dense_3_acc_2: 0.9410 - dense_3_acc_3: 0.750 - ETA: 13s - loss: 0.8620 - dense_3_loss: 0.7182 - dense_3_acc: 1.0000 - dense_3_acc_1: 1.0000 - dense_3_acc_2: 0.9462 - dense_3_acc_3: 0.742 - ETA: 13s - loss: 0.8482 - dense_3_loss: 0.7069 - dense_3_acc: 1.0000 - dense_3_acc_1: 1.0000 - dense_3_acc_2: 0.9468 - dense_3_acc_3: 0.748 - ETA: 13s - loss: 0.8323 - dense_3_loss: 0.6915 - dense_3_acc: 1.0000 - dense_3_acc_1: 1.0000 - dense_3_acc_2: 0.9450 - dense_3_acc_3: 0.754 - ETA: 12s - loss: 0.8184 - dense_3_loss: 0.6790 - dense_3_acc: 1.0000 - dense_3_acc_1: 1.0000 - dense_3_acc_2: 0.9457 - dense_3_acc_3: 0.758 - ETA: 12s - loss: 0.8007 - dense_3_loss: 0.6636 - dense_3_acc: 1.0000 - dense_3_acc_1: 1.0000 - dense_3_acc_2: 0.9466 - dense_3_acc_3: 0.769 - ETA: 12s - loss: 0.7861 - dense_3_loss: 0.6507 - dense_3_acc: 1.0000 - dense_3_acc_1: 1.0000 - dense_3_acc_2: 0.9468 - dense_3_acc_3: 0.777 - ETA: 12s - loss: 0.7686 - dense_3_loss: 0.6346 - dense_3_acc: 1.0000 - dense_3_acc_1: 1.0000 - dense_3_acc_2: 0.9467 - dense_3_acc_3: 0.787 - ETA: 11s - loss: 0.7538 - dense_3_loss: 0.6208 - dense_3_acc: 1.0000 - dense_3_acc_1: 1.0000 - dense_3_acc_2: 0.9476 - dense_3_acc_3: 0.793 - ETA: 11s - loss: 0.7408 - dense_3_loss: 0.6065 - dense_3_acc: 1.0000 - dense_3_acc_1: 1.0000 - dense_3_acc_2: 0.9468 - dense_3_acc_3: 0.798 - ETA: 10s - loss: 0.7240 - dense_3_loss: 0.5906 - dense_3_acc: 1.0000 - dense_3_acc_1: 1.0000 - dense_3_acc_2: 0.9469 - dense_3_acc_3: 0.807 - ETA: 10s - loss: 0.7095 - dense_3_loss: 0.5770 - dense_3_acc: 1.0000 - dense_3_acc_1: 1.0000 - dense_3_acc_2: 0.9473 - dense_3_acc_3: 0.813 - ETA: 9s - loss: 0.6963 - dense_3_loss: 0.5646 - dense_3_acc: 1.0000 - dense_3_acc_1: 1.0000 - dense_3_acc_2: 0.9481 - dense_3_acc_3: 0.818 - ETA: 9s - loss: 0.6816 - dense_3_loss: 0.5515 - dense_3_acc: 1.0000 - dense_3_acc_1: 1.0000 - dense_3_acc_2: 0.9489 - dense_3_acc_3: 0.82 - ETA: 9s - loss: 0.6684 - dense_3_loss: 0.5393 - dense_3_acc: 1.0000 - dense_3_acc_1: 1.0000 - dense_3_acc_2: 0.9497 - dense_3_acc_3: 0.83 - ETA: 8s - loss: 0.6579 - dense_3_loss: 0.5290 - dense_3_acc: 1.0000 - dense_3_acc_1: 1.0000 - dense_3_acc_2: 0.9499 - dense_3_acc_3: 0.83 - ETA: 8s - loss: 0.6447 - dense_3_loss: 0.5176 - dense_3_acc: 1.0000 - dense_3_acc_1: 1.0000 - dense_3_acc_2: 0.9510 - dense_3_acc_3: 0.83 - ETA: 8s - loss: 0.6318 - dense_3_loss: 0.5064 - dense_3_acc: 1.0000 - dense_3_acc_1: 1.0000 - dense_3_acc_2: 0.9520 - dense_3_acc_3: 0.84 - ETA: 7s - loss: 0.6190 - dense_3_loss: 0.4952 - dense_3_acc: 1.0000 - dense_3_acc_1: 1.0000 - dense_3_acc_2: 0.9531 - dense_3_acc_3: 0.84 - ETA: 7s - loss: 0.6069 - dense_3_loss: 0.4844 - dense_3_acc: 1.0000 - dense_3_acc_1: 1.0000 - dense_3_acc_2: 0.9535 - dense_3_acc_3: 0.85 - ETA: 7s - loss: 0.5959 - dense_3_loss: 0.4746 - dense_3_acc: 1.0000 - dense_3_acc_1: 1.0000 - dense_3_acc_2: 0.9543 - dense_3_acc_3: 0.85 - ETA: 6s - loss: 0.5834 - dense_3_loss: 0.4636 - dense_3_acc: 1.0000 - dense_3_acc_1: 1.0000 - dense_3_acc_2: 0.9555 - dense_3_acc_3: 0.86 - ETA: 6s - loss: 0.5724 - dense_3_loss: 0.4539 - dense_3_acc: 1.0000 - dense_3_acc_1: 1.0000 - dense_3_acc_2: 0.9562 - dense_3_acc_3: 0.86 - ETA: 6s - loss: 0.5615 - dense_3_loss: 0.4449 - dense_3_acc: 1.0000 - dense_3_acc_1: 1.0000 - dense_3_acc_2: 0.9571 - dense_3_acc_3: 0.87 - ETA: 5s - loss: 0.5512 - dense_3_loss: 0.4363 - dense_3_acc: 1.0000 - dense_3_acc_1: 1.0000 - dense_3_acc_2: 0.9580 - dense_3_acc_3: 0.87 - ETA: 5s - loss: 0.5412 - dense_3_loss: 0.4276 - dense_3_acc: 1.0000 - dense_3_acc_1: 1.0000 - dense_3_acc_2: 0.9584 - dense_3_acc_3: 0.87 - ETA: 5s - loss: 0.5314 - dense_3_loss: 0.4195 - dense_3_acc: 1.0000 - dense_3_acc_1: 1.0000 - dense_3_acc_2: 0.9594 - dense_3_acc_3: 0.88 - ETA: 4s - loss: 0.5229 - dense_3_loss: 0.4122 - dense_3_acc: 1.0000 - dense_3_acc_1: 1.0000 - dense_3_acc_2: 0.9602 - dense_3_acc_3: 0.88 - ETA: 4s - loss: 0.5200 - dense_3_loss: 0.4102 - dense_3_acc: 1.0000 - dense_3_acc_1: 1.0000 - dense_3_acc_2: 0.9608 - dense_3_acc_3: 0.88 - ETA: 4s - loss: 0.5130 - dense_3_loss: 0.4042 - dense_3_acc: 1.0000 - dense_3_acc_1: 1.0000 - dense_3_acc_2: 0.9612 - dense_3_acc_3: 0.88 - ETA: 3s - loss: 0.5099 - dense_3_loss: 0.4009 - dense_3_acc: 1.0000 - dense_3_acc_1: 1.0000 - dense_3_acc_2: 0.9614 - dense_3_acc_3: 0.88 - ETA: 3s - loss: 0.5025 - dense_3_loss: 0.3948 - dense_3_acc: 1.0000 - dense_3_acc_1: 1.0000 - dense_3_acc_2: 0.9620 - dense_3_acc_3: 0.88 - ETA: 3s - loss: 0.4958 - dense_3_loss: 0.3897 - dense_3_acc: 1.0000 - dense_3_acc_1: 1.0000 - dense_3_acc_2: 0.9629 - dense_3_acc_3: 0.89 - ETA: 2s - loss: 0.4902 - dense_3_loss: 0.3855 - dense_3_acc: 1.0000 - dense_3_acc_1: 1.0000 - dense_3_acc_2: 0.9637 - dense_3_acc_3: 0.89 - ETA: 2s - loss: 0.4846 - dense_3_loss: 0.3813 - dense_3_acc: 1.0000 - dense_3_acc_1: 1.0000 - dense_3_acc_2: 0.9646 - dense_3_acc_3: 0.89 - ETA: 2s - loss: 0.4771 - dense_3_loss: 0.3753 - dense_3_acc: 1.0000 - dense_3_acc_1: 1.0000 - dense_3_acc_2: 0.9652 - dense_3_acc_3: 0.89 - ETA: 1s - loss: 0.4709 - dense_3_loss: 0.3705 - dense_3_acc: 1.0000 - dense_3_acc_1: 1.0000 - dense_3_acc_2: 0.9661 - dense_3_acc_3: 0.89 - ETA: 1s - loss: 0.4642 - dense_3_loss: 0.3650 - dense_3_acc: 1.0000 - dense_3_acc_1: 1.0000 - dense_3_acc_2: 0.9669 - dense_3_acc_3: 0.89 - ETA: 1s - loss: 0.4578 - dense_3_loss: 0.3599 - dense_3_acc: 1.0000 - dense_3_acc_1: 1.0000 - dense_3_acc_2: 0.9675 - dense_3_acc_3: 0.89 - ETA: 0s - loss: 0.4510 - dense_3_loss: 0.3544 - dense_3_acc: 1.0000 - dense_3_acc_1: 1.0000 - dense_3_acc_2: 0.9683 - dense_3_acc_3: 0.90 - ETA: 0s - loss: 0.4442 - dense_3_loss: 0.3490 - dense_3_acc: 1.0000 - dense_3_acc_1: 1.0000 - dense_3_acc_2: 0.9690 - dense_3_acc_3: 0.90 - ETA: 0s - loss: 0.4375 - dense_3_loss: 0.3438 - dense_3_acc: 1.0000 - dense_3_acc_1: 1.0000 - dense_3_acc_2: 0.9697 - dense_3_acc_3: 0.90 - 15s 337us/step - loss: 0.4313 - dense_3_loss: 0.3388 - dense_3_acc: 1.0000 - dense_3_acc_1: 1.0000 - dense_3_acc_2: 0.9703 - dense_3_acc_3: 0.9057 - val_loss: 0.1373 - val_dense_3_loss: 0.1086 - val_dense_3_acc: 1.0000 - val_dense_3_acc_1: 1.0000 - val_dense_3_acc_2: 0.9990 - val_dense_3_acc_3: 0.9698\n",
      "Epoch 5/7\n"
     ]
    },
    {
     "name": "stdout",
     "output_type": "stream",
     "text": [
      "45000/45000 [==============================] - ETA: 13s - loss: 0.1449 - dense_3_loss: 0.1153 - dense_3_acc: 1.0000 - dense_3_acc_1: 1.0000 - dense_3_acc_2: 0.9980 - dense_3_acc_3: 0.963 - ETA: 13s - loss: 0.1360 - dense_3_loss: 0.1082 - dense_3_acc: 1.0000 - dense_3_acc_1: 1.0000 - dense_3_acc_2: 0.9990 - dense_3_acc_3: 0.968 - ETA: 13s - loss: 0.1302 - dense_3_loss: 0.1027 - dense_3_acc: 1.0000 - dense_3_acc_1: 1.0000 - dense_3_acc_2: 0.9987 - dense_3_acc_3: 0.969 - ETA: 12s - loss: 0.1257 - dense_3_loss: 0.0988 - dense_3_acc: 1.0000 - dense_3_acc_1: 1.0000 - dense_3_acc_2: 0.9983 - dense_3_acc_3: 0.973 - ETA: 12s - loss: 0.1226 - dense_3_loss: 0.0963 - dense_3_acc: 1.0000 - dense_3_acc_1: 1.0000 - dense_3_acc_2: 0.9982 - dense_3_acc_3: 0.974 - ETA: 12s - loss: 0.1198 - dense_3_loss: 0.0945 - dense_3_acc: 1.0000 - dense_3_acc_1: 1.0000 - dense_3_acc_2: 0.9985 - dense_3_acc_3: 0.977 - ETA: 11s - loss: 0.1178 - dense_3_loss: 0.0931 - dense_3_acc: 1.0000 - dense_3_acc_1: 1.0000 - dense_3_acc_2: 0.9987 - dense_3_acc_3: 0.979 - ETA: 11s - loss: 0.1141 - dense_3_loss: 0.0901 - dense_3_acc: 1.0000 - dense_3_acc_1: 1.0000 - dense_3_acc_2: 0.9989 - dense_3_acc_3: 0.981 - ETA: 11s - loss: 0.1111 - dense_3_loss: 0.0877 - dense_3_acc: 1.0000 - dense_3_acc_1: 1.0000 - dense_3_acc_2: 0.9990 - dense_3_acc_3: 0.982 - ETA: 10s - loss: 0.1081 - dense_3_loss: 0.0852 - dense_3_acc: 1.0000 - dense_3_acc_1: 1.0000 - dense_3_acc_2: 0.9991 - dense_3_acc_3: 0.984 - ETA: 10s - loss: 0.1056 - dense_3_loss: 0.0831 - dense_3_acc: 1.0000 - dense_3_acc_1: 1.0000 - dense_3_acc_2: 0.9992 - dense_3_acc_3: 0.985 - ETA: 10s - loss: 0.1027 - dense_3_loss: 0.0806 - dense_3_acc: 1.0000 - dense_3_acc_1: 1.0000 - dense_3_acc_2: 0.9993 - dense_3_acc_3: 0.986 - ETA: 10s - loss: 0.0999 - dense_3_loss: 0.0783 - dense_3_acc: 1.0000 - dense_3_acc_1: 1.0000 - dense_3_acc_2: 0.9993 - dense_3_acc_3: 0.987 - ETA: 9s - loss: 0.0972 - dense_3_loss: 0.0761 - dense_3_acc: 1.0000 - dense_3_acc_1: 1.0000 - dense_3_acc_2: 0.9994 - dense_3_acc_3: 0.988 - ETA: 9s - loss: 0.0952 - dense_3_loss: 0.0745 - dense_3_acc: 1.0000 - dense_3_acc_1: 1.0000 - dense_3_acc_2: 0.9994 - dense_3_acc_3: 0.98 - ETA: 9s - loss: 0.0931 - dense_3_loss: 0.0729 - dense_3_acc: 1.0000 - dense_3_acc_1: 1.0000 - dense_3_acc_2: 0.9994 - dense_3_acc_3: 0.98 - ETA: 8s - loss: 0.0909 - dense_3_loss: 0.0712 - dense_3_acc: 1.0000 - dense_3_acc_1: 1.0000 - dense_3_acc_2: 0.9995 - dense_3_acc_3: 0.99 - ETA: 8s - loss: 0.0889 - dense_3_loss: 0.0696 - dense_3_acc: 1.0000 - dense_3_acc_1: 1.0000 - dense_3_acc_2: 0.9995 - dense_3_acc_3: 0.99 - ETA: 8s - loss: 0.0870 - dense_3_loss: 0.0681 - dense_3_acc: 1.0000 - dense_3_acc_1: 1.0000 - dense_3_acc_2: 0.9995 - dense_3_acc_3: 0.99 - ETA: 7s - loss: 0.0850 - dense_3_loss: 0.0664 - dense_3_acc: 1.0000 - dense_3_acc_1: 1.0000 - dense_3_acc_2: 0.9996 - dense_3_acc_3: 0.99 - ETA: 7s - loss: 0.0830 - dense_3_loss: 0.0649 - dense_3_acc: 1.0000 - dense_3_acc_1: 1.0000 - dense_3_acc_2: 0.9996 - dense_3_acc_3: 0.99 - ETA: 7s - loss: 0.0812 - dense_3_loss: 0.0634 - dense_3_acc: 1.0000 - dense_3_acc_1: 1.0000 - dense_3_acc_2: 0.9996 - dense_3_acc_3: 0.99 - ETA: 6s - loss: 0.0795 - dense_3_loss: 0.0620 - dense_3_acc: 1.0000 - dense_3_acc_1: 1.0000 - dense_3_acc_2: 0.9996 - dense_3_acc_3: 0.99 - ETA: 6s - loss: 0.0778 - dense_3_loss: 0.0607 - dense_3_acc: 1.0000 - dense_3_acc_1: 1.0000 - dense_3_acc_2: 0.9996 - dense_3_acc_3: 0.99 - ETA: 6s - loss: 0.0762 - dense_3_loss: 0.0594 - dense_3_acc: 1.0000 - dense_3_acc_1: 1.0000 - dense_3_acc_2: 0.9996 - dense_3_acc_3: 0.99 - ETA: 5s - loss: 0.0747 - dense_3_loss: 0.0582 - dense_3_acc: 1.0000 - dense_3_acc_1: 1.0000 - dense_3_acc_2: 0.9997 - dense_3_acc_3: 0.99 - ETA: 5s - loss: 0.0732 - dense_3_loss: 0.0570 - dense_3_acc: 1.0000 - dense_3_acc_1: 1.0000 - dense_3_acc_2: 0.9997 - dense_3_acc_3: 0.99 - ETA: 5s - loss: 0.0719 - dense_3_loss: 0.0559 - dense_3_acc: 1.0000 - dense_3_acc_1: 1.0000 - dense_3_acc_2: 0.9997 - dense_3_acc_3: 0.99 - ETA: 4s - loss: 0.0706 - dense_3_loss: 0.0548 - dense_3_acc: 1.0000 - dense_3_acc_1: 1.0000 - dense_3_acc_2: 0.9997 - dense_3_acc_3: 0.99 - ETA: 4s - loss: 0.0693 - dense_3_loss: 0.0538 - dense_3_acc: 1.0000 - dense_3_acc_1: 1.0000 - dense_3_acc_2: 0.9997 - dense_3_acc_3: 0.99 - ETA: 4s - loss: 0.0681 - dense_3_loss: 0.0529 - dense_3_acc: 1.0000 - dense_3_acc_1: 1.0000 - dense_3_acc_2: 0.9997 - dense_3_acc_3: 0.99 - ETA: 4s - loss: 0.0669 - dense_3_loss: 0.0519 - dense_3_acc: 1.0000 - dense_3_acc_1: 1.0000 - dense_3_acc_2: 0.9997 - dense_3_acc_3: 0.99 - ETA: 3s - loss: 0.0657 - dense_3_loss: 0.0509 - dense_3_acc: 1.0000 - dense_3_acc_1: 1.0000 - dense_3_acc_2: 0.9997 - dense_3_acc_3: 0.99 - ETA: 3s - loss: 0.0646 - dense_3_loss: 0.0501 - dense_3_acc: 1.0000 - dense_3_acc_1: 1.0000 - dense_3_acc_2: 0.9997 - dense_3_acc_3: 0.99 - ETA: 3s - loss: 0.0636 - dense_3_loss: 0.0493 - dense_3_acc: 1.0000 - dense_3_acc_1: 1.0000 - dense_3_acc_2: 0.9997 - dense_3_acc_3: 0.99 - ETA: 2s - loss: 0.0627 - dense_3_loss: 0.0485 - dense_3_acc: 1.0000 - dense_3_acc_1: 1.0000 - dense_3_acc_2: 0.9998 - dense_3_acc_3: 0.99 - ETA: 2s - loss: 0.0617 - dense_3_loss: 0.0477 - dense_3_acc: 1.0000 - dense_3_acc_1: 1.0000 - dense_3_acc_2: 0.9998 - dense_3_acc_3: 0.99 - ETA: 2s - loss: 0.0607 - dense_3_loss: 0.0469 - dense_3_acc: 1.0000 - dense_3_acc_1: 1.0000 - dense_3_acc_2: 0.9998 - dense_3_acc_3: 0.99 - ETA: 1s - loss: 0.0598 - dense_3_loss: 0.0462 - dense_3_acc: 1.0000 - dense_3_acc_1: 1.0000 - dense_3_acc_2: 0.9998 - dense_3_acc_3: 0.99 - ETA: 1s - loss: 0.0589 - dense_3_loss: 0.0455 - dense_3_acc: 1.0000 - dense_3_acc_1: 1.0000 - dense_3_acc_2: 0.9998 - dense_3_acc_3: 0.99 - ETA: 1s - loss: 0.0581 - dense_3_loss: 0.0448 - dense_3_acc: 1.0000 - dense_3_acc_1: 1.0000 - dense_3_acc_2: 0.9998 - dense_3_acc_3: 0.99 - ETA: 0s - loss: 0.0572 - dense_3_loss: 0.0441 - dense_3_acc: 1.0000 - dense_3_acc_1: 1.0000 - dense_3_acc_2: 0.9998 - dense_3_acc_3: 0.99 - ETA: 0s - loss: 0.0564 - dense_3_loss: 0.0435 - dense_3_acc: 1.0000 - dense_3_acc_1: 1.0000 - dense_3_acc_2: 0.9998 - dense_3_acc_3: 0.99 - ETA: 0s - loss: 0.0556 - dense_3_loss: 0.0429 - dense_3_acc: 1.0000 - dense_3_acc_1: 1.0000 - dense_3_acc_2: 0.9998 - dense_3_acc_3: 0.99 - 15s 326us/step - loss: 0.0549 - dense_3_loss: 0.0423 - dense_3_acc: 1.0000 - dense_3_acc_1: 1.0000 - dense_3_acc_2: 0.9998 - dense_3_acc_3: 0.9964 - val_loss: 0.0209 - val_dense_3_loss: 0.0155 - val_dense_3_acc: 1.0000 - val_dense_3_acc_1: 1.0000 - val_dense_3_acc_2: 1.0000 - val_dense_3_acc_3: 1.0000\n",
      "Epoch 6/7\n"
     ]
    },
    {
     "name": "stdout",
     "output_type": "stream",
     "text": [
      "45000/45000 [==============================] - ETA: 13s - loss: 0.0214 - dense_3_loss: 0.0157 - dense_3_acc: 1.0000 - dense_3_acc_1: 1.0000 - dense_3_acc_2: 1.0000 - dense_3_acc_3: 1.000 - ETA: 13s - loss: 0.0210 - dense_3_loss: 0.0154 - dense_3_acc: 1.0000 - dense_3_acc_1: 1.0000 - dense_3_acc_2: 1.0000 - dense_3_acc_3: 1.000 - ETA: 12s - loss: 0.0208 - dense_3_loss: 0.0153 - dense_3_acc: 1.0000 - dense_3_acc_1: 1.0000 - dense_3_acc_2: 1.0000 - dense_3_acc_3: 1.000 - ETA: 12s - loss: 0.0204 - dense_3_loss: 0.0150 - dense_3_acc: 1.0000 - dense_3_acc_1: 1.0000 - dense_3_acc_2: 1.0000 - dense_3_acc_3: 1.000 - ETA: 12s - loss: 0.0202 - dense_3_loss: 0.0148 - dense_3_acc: 1.0000 - dense_3_acc_1: 1.0000 - dense_3_acc_2: 1.0000 - dense_3_acc_3: 1.000 - ETA: 11s - loss: 0.0200 - dense_3_loss: 0.0145 - dense_3_acc: 1.0000 - dense_3_acc_1: 1.0000 - dense_3_acc_2: 1.0000 - dense_3_acc_3: 1.000 - ETA: 11s - loss: 0.0197 - dense_3_loss: 0.0143 - dense_3_acc: 1.0000 - dense_3_acc_1: 1.0000 - dense_3_acc_2: 1.0000 - dense_3_acc_3: 1.000 - ETA: 11s - loss: 0.0195 - dense_3_loss: 0.0141 - dense_3_acc: 1.0000 - dense_3_acc_1: 1.0000 - dense_3_acc_2: 1.0000 - dense_3_acc_3: 1.000 - ETA: 11s - loss: 0.0194 - dense_3_loss: 0.0141 - dense_3_acc: 1.0000 - dense_3_acc_1: 1.0000 - dense_3_acc_2: 1.0000 - dense_3_acc_3: 1.000 - ETA: 10s - loss: 0.0192 - dense_3_loss: 0.0139 - dense_3_acc: 1.0000 - dense_3_acc_1: 1.0000 - dense_3_acc_2: 1.0000 - dense_3_acc_3: 1.000 - ETA: 10s - loss: 0.0190 - dense_3_loss: 0.0137 - dense_3_acc: 1.0000 - dense_3_acc_1: 1.0000 - dense_3_acc_2: 1.0000 - dense_3_acc_3: 1.000 - ETA: 10s - loss: 0.0189 - dense_3_loss: 0.0136 - dense_3_acc: 1.0000 - dense_3_acc_1: 1.0000 - dense_3_acc_2: 1.0000 - dense_3_acc_3: 1.000 - ETA: 9s - loss: 0.0187 - dense_3_loss: 0.0135 - dense_3_acc: 1.0000 - dense_3_acc_1: 1.0000 - dense_3_acc_2: 1.0000 - dense_3_acc_3: 1.000 - ETA: 9s - loss: 0.0186 - dense_3_loss: 0.0134 - dense_3_acc: 1.0000 - dense_3_acc_1: 1.0000 - dense_3_acc_2: 1.0000 - dense_3_acc_3: 1.00 - ETA: 9s - loss: 0.0184 - dense_3_loss: 0.0133 - dense_3_acc: 1.0000 - dense_3_acc_1: 1.0000 - dense_3_acc_2: 1.0000 - dense_3_acc_3: 1.00 - ETA: 8s - loss: 0.0182 - dense_3_loss: 0.0131 - dense_3_acc: 1.0000 - dense_3_acc_1: 1.0000 - dense_3_acc_2: 1.0000 - dense_3_acc_3: 1.00 - ETA: 8s - loss: 0.0181 - dense_3_loss: 0.0130 - dense_3_acc: 1.0000 - dense_3_acc_1: 1.0000 - dense_3_acc_2: 1.0000 - dense_3_acc_3: 1.00 - ETA: 8s - loss: 0.0179 - dense_3_loss: 0.0129 - dense_3_acc: 1.0000 - dense_3_acc_1: 1.0000 - dense_3_acc_2: 1.0000 - dense_3_acc_3: 1.00 - ETA: 8s - loss: 0.0178 - dense_3_loss: 0.0128 - dense_3_acc: 1.0000 - dense_3_acc_1: 1.0000 - dense_3_acc_2: 1.0000 - dense_3_acc_3: 1.00 - ETA: 7s - loss: 0.0176 - dense_3_loss: 0.0127 - dense_3_acc: 1.0000 - dense_3_acc_1: 1.0000 - dense_3_acc_2: 1.0000 - dense_3_acc_3: 1.00 - ETA: 7s - loss: 0.0175 - dense_3_loss: 0.0126 - dense_3_acc: 1.0000 - dense_3_acc_1: 1.0000 - dense_3_acc_2: 1.0000 - dense_3_acc_3: 1.00 - ETA: 7s - loss: 0.0174 - dense_3_loss: 0.0125 - dense_3_acc: 1.0000 - dense_3_acc_1: 1.0000 - dense_3_acc_2: 1.0000 - dense_3_acc_3: 1.00 - ETA: 6s - loss: 0.0172 - dense_3_loss: 0.0124 - dense_3_acc: 1.0000 - dense_3_acc_1: 1.0000 - dense_3_acc_2: 1.0000 - dense_3_acc_3: 1.00 - ETA: 6s - loss: 0.0171 - dense_3_loss: 0.0123 - dense_3_acc: 1.0000 - dense_3_acc_1: 1.0000 - dense_3_acc_2: 1.0000 - dense_3_acc_3: 1.00 - ETA: 6s - loss: 0.0170 - dense_3_loss: 0.0123 - dense_3_acc: 1.0000 - dense_3_acc_1: 1.0000 - dense_3_acc_2: 1.0000 - dense_3_acc_3: 1.00 - ETA: 5s - loss: 0.0169 - dense_3_loss: 0.0122 - dense_3_acc: 1.0000 - dense_3_acc_1: 1.0000 - dense_3_acc_2: 1.0000 - dense_3_acc_3: 1.00 - ETA: 5s - loss: 0.0167 - dense_3_loss: 0.0121 - dense_3_acc: 1.0000 - dense_3_acc_1: 1.0000 - dense_3_acc_2: 1.0000 - dense_3_acc_3: 1.00 - ETA: 5s - loss: 0.0166 - dense_3_loss: 0.0120 - dense_3_acc: 1.0000 - dense_3_acc_1: 1.0000 - dense_3_acc_2: 1.0000 - dense_3_acc_3: 1.00 - ETA: 4s - loss: 0.0165 - dense_3_loss: 0.0119 - dense_3_acc: 1.0000 - dense_3_acc_1: 1.0000 - dense_3_acc_2: 1.0000 - dense_3_acc_3: 1.00 - ETA: 4s - loss: 0.0164 - dense_3_loss: 0.0119 - dense_3_acc: 1.0000 - dense_3_acc_1: 1.0000 - dense_3_acc_2: 1.0000 - dense_3_acc_3: 1.00 - ETA: 4s - loss: 0.0163 - dense_3_loss: 0.0118 - dense_3_acc: 1.0000 - dense_3_acc_1: 1.0000 - dense_3_acc_2: 1.0000 - dense_3_acc_3: 1.00 - ETA: 4s - loss: 0.0162 - dense_3_loss: 0.0117 - dense_3_acc: 1.0000 - dense_3_acc_1: 1.0000 - dense_3_acc_2: 1.0000 - dense_3_acc_3: 1.00 - ETA: 3s - loss: 0.0161 - dense_3_loss: 0.0116 - dense_3_acc: 1.0000 - dense_3_acc_1: 1.0000 - dense_3_acc_2: 1.0000 - dense_3_acc_3: 1.00 - ETA: 3s - loss: 0.0160 - dense_3_loss: 0.0115 - dense_3_acc: 1.0000 - dense_3_acc_1: 1.0000 - dense_3_acc_2: 1.0000 - dense_3_acc_3: 1.00 - ETA: 3s - loss: 0.0159 - dense_3_loss: 0.0115 - dense_3_acc: 1.0000 - dense_3_acc_1: 1.0000 - dense_3_acc_2: 1.0000 - dense_3_acc_3: 1.00 - ETA: 2s - loss: 0.0158 - dense_3_loss: 0.0114 - dense_3_acc: 1.0000 - dense_3_acc_1: 1.0000 - dense_3_acc_2: 1.0000 - dense_3_acc_3: 1.00 - ETA: 2s - loss: 0.0157 - dense_3_loss: 0.0113 - dense_3_acc: 1.0000 - dense_3_acc_1: 1.0000 - dense_3_acc_2: 1.0000 - dense_3_acc_3: 1.00 - ETA: 2s - loss: 0.0156 - dense_3_loss: 0.0112 - dense_3_acc: 1.0000 - dense_3_acc_1: 1.0000 - dense_3_acc_2: 1.0000 - dense_3_acc_3: 1.00 - ETA: 1s - loss: 0.0155 - dense_3_loss: 0.0112 - dense_3_acc: 1.0000 - dense_3_acc_1: 1.0000 - dense_3_acc_2: 1.0000 - dense_3_acc_3: 1.00 - ETA: 1s - loss: 0.0154 - dense_3_loss: 0.0111 - dense_3_acc: 1.0000 - dense_3_acc_1: 1.0000 - dense_3_acc_2: 1.0000 - dense_3_acc_3: 1.00 - ETA: 1s - loss: 0.0153 - dense_3_loss: 0.0110 - dense_3_acc: 1.0000 - dense_3_acc_1: 1.0000 - dense_3_acc_2: 1.0000 - dense_3_acc_3: 1.00 - ETA: 0s - loss: 0.0152 - dense_3_loss: 0.0109 - dense_3_acc: 1.0000 - dense_3_acc_1: 1.0000 - dense_3_acc_2: 1.0000 - dense_3_acc_3: 1.00 - ETA: 0s - loss: 0.0151 - dense_3_loss: 0.0109 - dense_3_acc: 1.0000 - dense_3_acc_1: 1.0000 - dense_3_acc_2: 1.0000 - dense_3_acc_3: 1.00 - ETA: 0s - loss: 0.0150 - dense_3_loss: 0.0108 - dense_3_acc: 1.0000 - dense_3_acc_1: 1.0000 - dense_3_acc_2: 1.0000 - dense_3_acc_3: 1.00 - 15s 323us/step - loss: 0.0149 - dense_3_loss: 0.0107 - dense_3_acc: 1.0000 - dense_3_acc_1: 1.0000 - dense_3_acc_2: 1.0000 - dense_3_acc_3: 1.0000 - val_loss: 0.0108 - val_dense_3_loss: 0.0077 - val_dense_3_acc: 1.0000 - val_dense_3_acc_1: 1.0000 - val_dense_3_acc_2: 1.0000 - val_dense_3_acc_3: 1.0000\n",
      "Epoch 7/7\n"
     ]
    },
    {
     "name": "stdout",
     "output_type": "stream",
     "text": [
      "45000/45000 [==============================] - ETA: 14s - loss: 0.0109 - dense_3_loss: 0.0080 - dense_3_acc: 1.0000 - dense_3_acc_1: 1.0000 - dense_3_acc_2: 1.0000 - dense_3_acc_3: 1.000 - ETA: 14s - loss: 0.0107 - dense_3_loss: 0.0077 - dense_3_acc: 1.0000 - dense_3_acc_1: 1.0000 - dense_3_acc_2: 1.0000 - dense_3_acc_3: 1.000 - ETA: 13s - loss: 0.0107 - dense_3_loss: 0.0076 - dense_3_acc: 1.0000 - dense_3_acc_1: 1.0000 - dense_3_acc_2: 1.0000 - dense_3_acc_3: 1.000 - ETA: 13s - loss: 0.0107 - dense_3_loss: 0.0077 - dense_3_acc: 1.0000 - dense_3_acc_1: 1.0000 - dense_3_acc_2: 1.0000 - dense_3_acc_3: 1.000 - ETA: 12s - loss: 0.0107 - dense_3_loss: 0.0077 - dense_3_acc: 1.0000 - dense_3_acc_1: 1.0000 - dense_3_acc_2: 1.0000 - dense_3_acc_3: 1.000 - ETA: 12s - loss: 0.0106 - dense_3_loss: 0.0076 - dense_3_acc: 1.0000 - dense_3_acc_1: 1.0000 - dense_3_acc_2: 1.0000 - dense_3_acc_3: 1.000 - ETA: 11s - loss: 0.0106 - dense_3_loss: 0.0075 - dense_3_acc: 1.0000 - dense_3_acc_1: 1.0000 - dense_3_acc_2: 1.0000 - dense_3_acc_3: 1.000 - ETA: 11s - loss: 0.0105 - dense_3_loss: 0.0075 - dense_3_acc: 1.0000 - dense_3_acc_1: 1.0000 - dense_3_acc_2: 1.0000 - dense_3_acc_3: 1.000 - ETA: 11s - loss: 0.0105 - dense_3_loss: 0.0075 - dense_3_acc: 1.0000 - dense_3_acc_1: 1.0000 - dense_3_acc_2: 1.0000 - dense_3_acc_3: 1.000 - ETA: 10s - loss: 0.0104 - dense_3_loss: 0.0075 - dense_3_acc: 1.0000 - dense_3_acc_1: 1.0000 - dense_3_acc_2: 1.0000 - dense_3_acc_3: 1.000 - ETA: 10s - loss: 0.0104 - dense_3_loss: 0.0074 - dense_3_acc: 1.0000 - dense_3_acc_1: 1.0000 - dense_3_acc_2: 1.0000 - dense_3_acc_3: 1.000 - ETA: 10s - loss: 0.0103 - dense_3_loss: 0.0074 - dense_3_acc: 1.0000 - dense_3_acc_1: 1.0000 - dense_3_acc_2: 1.0000 - dense_3_acc_3: 1.000 - ETA: 9s - loss: 0.0103 - dense_3_loss: 0.0073 - dense_3_acc: 1.0000 - dense_3_acc_1: 1.0000 - dense_3_acc_2: 1.0000 - dense_3_acc_3: 1.000 - ETA: 9s - loss: 0.0102 - dense_3_loss: 0.0073 - dense_3_acc: 1.0000 - dense_3_acc_1: 1.0000 - dense_3_acc_2: 1.0000 - dense_3_acc_3: 1.00 - ETA: 9s - loss: 0.0101 - dense_3_loss: 0.0072 - dense_3_acc: 1.0000 - dense_3_acc_1: 1.0000 - dense_3_acc_2: 1.0000 - dense_3_acc_3: 1.00 - ETA: 9s - loss: 0.0101 - dense_3_loss: 0.0072 - dense_3_acc: 1.0000 - dense_3_acc_1: 1.0000 - dense_3_acc_2: 1.0000 - dense_3_acc_3: 1.00 - ETA: 8s - loss: 0.0101 - dense_3_loss: 0.0072 - dense_3_acc: 1.0000 - dense_3_acc_1: 1.0000 - dense_3_acc_2: 1.0000 - dense_3_acc_3: 1.00 - ETA: 8s - loss: 0.0100 - dense_3_loss: 0.0071 - dense_3_acc: 1.0000 - dense_3_acc_1: 1.0000 - dense_3_acc_2: 1.0000 - dense_3_acc_3: 1.00 - ETA: 8s - loss: 0.0100 - dense_3_loss: 0.0071 - dense_3_acc: 1.0000 - dense_3_acc_1: 1.0000 - dense_3_acc_2: 1.0000 - dense_3_acc_3: 1.00 - ETA: 7s - loss: 0.0099 - dense_3_loss: 0.0070 - dense_3_acc: 1.0000 - dense_3_acc_1: 1.0000 - dense_3_acc_2: 1.0000 - dense_3_acc_3: 1.00 - ETA: 7s - loss: 0.0099 - dense_3_loss: 0.0070 - dense_3_acc: 1.0000 - dense_3_acc_1: 1.0000 - dense_3_acc_2: 1.0000 - dense_3_acc_3: 1.00 - ETA: 7s - loss: 0.0098 - dense_3_loss: 0.0070 - dense_3_acc: 1.0000 - dense_3_acc_1: 1.0000 - dense_3_acc_2: 1.0000 - dense_3_acc_3: 1.00 - ETA: 6s - loss: 0.0098 - dense_3_loss: 0.0069 - dense_3_acc: 1.0000 - dense_3_acc_1: 1.0000 - dense_3_acc_2: 1.0000 - dense_3_acc_3: 1.00 - ETA: 6s - loss: 0.0097 - dense_3_loss: 0.0069 - dense_3_acc: 1.0000 - dense_3_acc_1: 1.0000 - dense_3_acc_2: 1.0000 - dense_3_acc_3: 1.00 - ETA: 6s - loss: 0.0097 - dense_3_loss: 0.0069 - dense_3_acc: 1.0000 - dense_3_acc_1: 1.0000 - dense_3_acc_2: 1.0000 - dense_3_acc_3: 1.00 - ETA: 5s - loss: 0.0096 - dense_3_loss: 0.0068 - dense_3_acc: 1.0000 - dense_3_acc_1: 1.0000 - dense_3_acc_2: 1.0000 - dense_3_acc_3: 1.00 - ETA: 5s - loss: 0.0096 - dense_3_loss: 0.0068 - dense_3_acc: 1.0000 - dense_3_acc_1: 1.0000 - dense_3_acc_2: 1.0000 - dense_3_acc_3: 1.00 - ETA: 5s - loss: 0.0096 - dense_3_loss: 0.0068 - dense_3_acc: 1.0000 - dense_3_acc_1: 1.0000 - dense_3_acc_2: 1.0000 - dense_3_acc_3: 1.00 - ETA: 4s - loss: 0.0095 - dense_3_loss: 0.0068 - dense_3_acc: 1.0000 - dense_3_acc_1: 1.0000 - dense_3_acc_2: 1.0000 - dense_3_acc_3: 1.00 - ETA: 4s - loss: 0.0095 - dense_3_loss: 0.0067 - dense_3_acc: 1.0000 - dense_3_acc_1: 1.0000 - dense_3_acc_2: 1.0000 - dense_3_acc_3: 1.00 - ETA: 4s - loss: 0.0094 - dense_3_loss: 0.0067 - dense_3_acc: 1.0000 - dense_3_acc_1: 1.0000 - dense_3_acc_2: 1.0000 - dense_3_acc_3: 1.00 - ETA: 4s - loss: 0.0094 - dense_3_loss: 0.0066 - dense_3_acc: 1.0000 - dense_3_acc_1: 1.0000 - dense_3_acc_2: 1.0000 - dense_3_acc_3: 1.00 - ETA: 3s - loss: 0.0093 - dense_3_loss: 0.0066 - dense_3_acc: 1.0000 - dense_3_acc_1: 1.0000 - dense_3_acc_2: 1.0000 - dense_3_acc_3: 1.00 - ETA: 3s - loss: 0.0093 - dense_3_loss: 0.0066 - dense_3_acc: 1.0000 - dense_3_acc_1: 1.0000 - dense_3_acc_2: 1.0000 - dense_3_acc_3: 1.00 - ETA: 3s - loss: 0.0093 - dense_3_loss: 0.0066 - dense_3_acc: 1.0000 - dense_3_acc_1: 1.0000 - dense_3_acc_2: 1.0000 - dense_3_acc_3: 1.00 - ETA: 2s - loss: 0.0092 - dense_3_loss: 0.0065 - dense_3_acc: 1.0000 - dense_3_acc_1: 1.0000 - dense_3_acc_2: 1.0000 - dense_3_acc_3: 1.00 - ETA: 2s - loss: 0.0092 - dense_3_loss: 0.0065 - dense_3_acc: 1.0000 - dense_3_acc_1: 1.0000 - dense_3_acc_2: 1.0000 - dense_3_acc_3: 1.00 - ETA: 2s - loss: 0.0091 - dense_3_loss: 0.0065 - dense_3_acc: 1.0000 - dense_3_acc_1: 1.0000 - dense_3_acc_2: 1.0000 - dense_3_acc_3: 1.00 - ETA: 1s - loss: 0.0091 - dense_3_loss: 0.0065 - dense_3_acc: 1.0000 - dense_3_acc_1: 1.0000 - dense_3_acc_2: 1.0000 - dense_3_acc_3: 1.00 - ETA: 1s - loss: 0.0091 - dense_3_loss: 0.0064 - dense_3_acc: 1.0000 - dense_3_acc_1: 1.0000 - dense_3_acc_2: 1.0000 - dense_3_acc_3: 1.00 - ETA: 1s - loss: 0.0090 - dense_3_loss: 0.0064 - dense_3_acc: 1.0000 - dense_3_acc_1: 1.0000 - dense_3_acc_2: 1.0000 - dense_3_acc_3: 1.00 - ETA: 0s - loss: 0.0090 - dense_3_loss: 0.0064 - dense_3_acc: 1.0000 - dense_3_acc_1: 1.0000 - dense_3_acc_2: 1.0000 - dense_3_acc_3: 1.00 - ETA: 0s - loss: 0.0090 - dense_3_loss: 0.0064 - dense_3_acc: 1.0000 - dense_3_acc_1: 1.0000 - dense_3_acc_2: 1.0000 - dense_3_acc_3: 1.00 - ETA: 0s - loss: 0.0089 - dense_3_loss: 0.0063 - dense_3_acc: 1.0000 - dense_3_acc_1: 1.0000 - dense_3_acc_2: 1.0000 - dense_3_acc_3: 1.00 - 15s 324us/step - loss: 0.0089 - dense_3_loss: 0.0063 - dense_3_acc: 1.0000 - dense_3_acc_1: 1.0000 - dense_3_acc_2: 1.0000 - dense_3_acc_3: 1.0000 - val_loss: 0.0073 - val_dense_3_loss: 0.0051 - val_dense_3_acc: 1.0000 - val_dense_3_acc_1: 1.0000 - val_dense_3_acc_2: 1.0000 - val_dense_3_acc_3: 1.0000\n"
     ]
    },
    {
     "data": {
      "text/plain": [
       "<keras.callbacks.History at 0x14b2d0f0>"
      ]
     },
     "execution_count": 16,
     "metadata": {},
     "output_type": "execute_result"
    }
   ],
   "source": [
    "model.fit([Xoh, s0, c0], outputs, epochs=7, batch_size=1000, validation_split=0.1)"
   ]
  },
  {
   "cell_type": "markdown",
   "metadata": {},
   "source": [
    "While training you can see the loss as well as the accuracy on each of the 10 positions of the output. The table below gives you an example of what the accuracies could be if the batch had 2 examples: \n",
    "\n",
    "<img src=\"images/table.png\" style=\"width:700;height:200px;\"> <br>\n",
    "<caption><center>Thus, `dense_2_acc_8: 0.89` means that you are predicting the 7th character of the output correctly 89% of the time in the current batch of data. </center></caption>\n",
    "\n",
    "\n",
    "We have run this model for longer, and saved the weights. Run the next cell to load our weights. (By training a model for several minutes, you should be able to obtain a model of similar accuracy, but loading our model will save you time.) "
   ]
  },
  {
   "cell_type": "code",
   "execution_count": 17,
   "metadata": {},
   "outputs": [],
   "source": [
    "# model.save('models.')"
   ]
  },
  {
   "cell_type": "code",
   "execution_count": 18,
   "metadata": {},
   "outputs": [],
   "source": [
    "# model.load_weights('models/model.h5')"
   ]
  },
  {
   "cell_type": "markdown",
   "metadata": {},
   "source": [
    "You can now see the results on new examples."
   ]
  },
  {
   "cell_type": "code",
   "execution_count": 19,
   "metadata": {},
   "outputs": [
    {
     "name": "stdout",
     "output_type": "stream",
     "text": [
      "source: 3 May 1979\n",
      "output: 1979\n",
      "source: 5 April 09\n",
      "output: 2017\n",
      "source: 21th of August 2016\n",
      "output: 2016\n",
      "source: Tue 10 Jul 2007\n",
      "output: 2007\n",
      "source: Saturday May 9 2018\n",
      "output: 2018\n",
      "source: March 3 2001\n",
      "output: 2001\n",
      "source: March 3rd 2001\n",
      "output: 2001\n",
      "source: 1 March 2001\n",
      "output: 2010\n"
     ]
    }
   ],
   "source": [
    "EXAMPLES = ['3 May 1979', '5 April 09', '21th of August 2016', 'Tue 10 Jul 2007', 'Saturday May 9 2018', 'March 3 2001', 'March 3rd 2001', '1 March 2001']\n",
    "for example in EXAMPLES:\n",
    "    \n",
    "    source = string_to_int(example, Tx, human_vocab)\n",
    "    source = np.array(list(map(lambda x: to_categorical(x, num_classes=len(human_vocab)), source)))\n",
    "    source = source[np.newaxis, :]\n",
    "    prediction = model.predict([source, s0, c0])\n",
    "    prediction = np.argmax(prediction, axis = -1)\n",
    "    output = [inv_machine_vocab[int(i)] for i in prediction]\n",
    "    \n",
    "    print(\"source:\", example)\n",
    "    print(\"output:\", ''.join(output))"
   ]
  },
  {
   "cell_type": "markdown",
   "metadata": {},
   "source": [
    "You can also change these examples to test with your own examples. The next part will give you a better sense on what the attention mechanism is doing--i.e., what part of the input the network is paying attention to when generating a particular output character. "
   ]
  },
  {
   "cell_type": "markdown",
   "metadata": {},
   "source": [
    "## 3 - Visualizing Attention (Optional / Ungraded)\n",
    "\n",
    "Since the problem has a fixed output length of 10, it is also possible to carry out this task using 10 different softmax units to generate the 10 characters of the output. But one advantage of the attention model is that each part of the output (say the month) knows it needs to depend only on a small part of the input (the characters in the input giving the month). We can  visualize what part of the output is looking at what part of the input.\n",
    "\n",
    "Consider the task of translating \"Saturday 9 May 2018\" to \"2018-05-09\". If we visualize the computed $\\alpha^{\\langle t, t' \\rangle}$ we get this: \n",
    "\n",
    "<img src=\"images/date_attention.png\" style=\"width:600;height:300px;\"> <br>\n",
    "<caption><center> **Figure 8**: Full Attention Map</center></caption>\n",
    "\n",
    "Notice how the output ignores the \"Saturday\" portion of the input. None of the output timesteps are paying much attention to that portion of the input. We see also that 9 has been translated as 09 and May has been correctly translated into 05, with the output paying attention to the parts of the input it needs to to make the translation. The year mostly requires it to pay attention to the input's \"18\" in order to generate \"2018.\" \n",
    "\n"
   ]
  },
  {
   "cell_type": "markdown",
   "metadata": {},
   "source": [
    "### 3.1 - Getting the activations from the network\n",
    "\n",
    "Lets now visualize the attention values in your network. We'll propagate an example through the network, then visualize the values of $\\alpha^{\\langle t, t' \\rangle}$. \n",
    "\n",
    "To figure out where the attention values are located, let's start by printing a summary of the model ."
   ]
  },
  {
   "cell_type": "code",
   "execution_count": 20,
   "metadata": {},
   "outputs": [
    {
     "name": "stdout",
     "output_type": "stream",
     "text": [
      "__________________________________________________________________________________________________\n",
      "Layer (type)                    Output Shape         Param #     Connected to                     \n",
      "==================================================================================================\n",
      "input_1 (InputLayer)            (None, 30, 35)       0                                            \n",
      "__________________________________________________________________________________________________\n",
      "s0 (InputLayer)                 (None, 64)           0                                            \n",
      "__________________________________________________________________________________________________\n",
      "bidirectional_1 (Bidirectional) (None, 30, 64)       17408       input_1[0][0]                    \n",
      "__________________________________________________________________________________________________\n",
      "repeat_vector_1 (RepeatVector)  (None, 30, 64)       0           s0[0][0]                         \n",
      "                                                                 lstm_1[0][0]                     \n",
      "                                                                 lstm_1[1][0]                     \n",
      "                                                                 lstm_1[2][0]                     \n",
      "__________________________________________________________________________________________________\n",
      "concatenate_1 (Concatenate)     (None, 30, 128)      0           bidirectional_1[0][0]            \n",
      "                                                                 repeat_vector_1[0][0]            \n",
      "                                                                 bidirectional_1[0][0]            \n",
      "                                                                 repeat_vector_1[1][0]            \n",
      "                                                                 bidirectional_1[0][0]            \n",
      "                                                                 repeat_vector_1[2][0]            \n",
      "                                                                 bidirectional_1[0][0]            \n",
      "                                                                 repeat_vector_1[3][0]            \n",
      "__________________________________________________________________________________________________\n",
      "dense_1 (Dense)                 (None, 30, 10)       1290        concatenate_1[0][0]              \n",
      "                                                                 concatenate_1[1][0]              \n",
      "                                                                 concatenate_1[2][0]              \n",
      "                                                                 concatenate_1[3][0]              \n",
      "__________________________________________________________________________________________________\n",
      "dense_2 (Dense)                 (None, 30, 1)        11          dense_1[0][0]                    \n",
      "                                                                 dense_1[1][0]                    \n",
      "                                                                 dense_1[2][0]                    \n",
      "                                                                 dense_1[3][0]                    \n",
      "__________________________________________________________________________________________________\n",
      "attention_weights (Activation)  (None, 30, 1)        0           dense_2[0][0]                    \n",
      "                                                                 dense_2[1][0]                    \n",
      "                                                                 dense_2[2][0]                    \n",
      "                                                                 dense_2[3][0]                    \n",
      "__________________________________________________________________________________________________\n",
      "dot_1 (Dot)                     (None, 1, 64)        0           attention_weights[0][0]          \n",
      "                                                                 bidirectional_1[0][0]            \n",
      "                                                                 attention_weights[1][0]          \n",
      "                                                                 bidirectional_1[0][0]            \n",
      "                                                                 attention_weights[2][0]          \n",
      "                                                                 bidirectional_1[0][0]            \n",
      "                                                                 attention_weights[3][0]          \n",
      "                                                                 bidirectional_1[0][0]            \n",
      "__________________________________________________________________________________________________\n",
      "c0 (InputLayer)                 (None, 64)           0                                            \n",
      "__________________________________________________________________________________________________\n",
      "lstm_1 (LSTM)                   [(None, 64), (None,  33024       dot_1[0][0]                      \n",
      "                                                                 s0[0][0]                         \n",
      "                                                                 c0[0][0]                         \n",
      "                                                                 dot_1[1][0]                      \n",
      "                                                                 lstm_1[0][0]                     \n",
      "                                                                 lstm_1[0][2]                     \n",
      "                                                                 dot_1[2][0]                      \n",
      "                                                                 lstm_1[1][0]                     \n",
      "                                                                 lstm_1[1][2]                     \n",
      "                                                                 dot_1[3][0]                      \n",
      "                                                                 lstm_1[2][0]                     \n",
      "                                                                 lstm_1[2][2]                     \n",
      "__________________________________________________________________________________________________\n",
      "dense_3 (Dense)                 (None, 10)           650         lstm_1[0][0]                     \n",
      "                                                                 lstm_1[1][0]                     \n",
      "                                                                 lstm_1[2][0]                     \n",
      "                                                                 lstm_1[3][0]                     \n",
      "==================================================================================================\n",
      "Total params: 52,383\n",
      "Trainable params: 52,383\n",
      "Non-trainable params: 0\n",
      "__________________________________________________________________________________________________\n"
     ]
    }
   ],
   "source": [
    "model.summary()"
   ]
  },
  {
   "cell_type": "markdown",
   "metadata": {},
   "source": [
    "Navigate through the output of `model.summary()` above. You can see that the layer named `attention_weights` outputs the `alphas` of shape (m, 30, 1) before `dot_2` computes the context vector for every time step $t = 0, \\ldots, T_y-1$. Lets get the activations from this layer.\n",
    "\n",
    "The function `attention_map()` pulls out the attention values from your model and plots them."
   ]
  },
  {
   "cell_type": "code",
   "execution_count": 25,
   "metadata": {
    "scrolled": false
   },
   "outputs": [
    {
     "data": {
      "text/plain": [
       "<Figure size 432x288 with 0 Axes>"
      ]
     },
     "metadata": {},
     "output_type": "display_data"
    },
    {
     "data": {
      "image/png": "[encoded data removed]",
      "text/plain": [
       "<Figure size 576x612 with 2 Axes>"
      ]
     },
     "metadata": {},
     "output_type": "display_data"
    }
   ],
   "source": [
    "attention_map = plot_attention_map(model, human_vocab, inv_machine_vocab, \"saturday may 9 2000\", num = 7, n_s = 64, Tx=30, Ty=4)"
   ]
  },
  {
   "cell_type": "markdown",
   "metadata": {},
   "source": [
    "On the generated plot you can observe the values of the attention weights for each character of the predicted output. Examine this plot and check that where the network is paying attention makes sense to you.\n",
    "\n",
    "In the date translation application, you will observe that most of the time attention helps predict the year, and hasn't much impact on predicting the day/month."
   ]
  },
  {
   "cell_type": "markdown",
   "metadata": {},
   "source": [
    "### Congratulations!\n",
    "\n",
    "\n",
    "You have come to the end of this assignment \n",
    "\n",
    "<font color='blue'> **Here's what you should remember from this notebook**:\n",
    "\n",
    "- Machine translation models can be used to map from one sequence to another. They are useful not just for translating human languages (like French->English) but also for tasks like date format translation. \n",
    "- An attention mechanism allows a network to focus on the most relevant parts of the input when producing a specific part of the output. \n",
    "- A network using an attention mechanism can translate from inputs of length $T_x$ to outputs of length $T_y$, where $T_x$ and $T_y$ can be different. \n",
    "- You can visualize attention weights $\\alpha^{\\langle t,t' \\rangle}$ to see what the network is paying attention to while generating each output."
   ]
  },
  {
   "cell_type": "markdown",
   "metadata": {},
   "source": [
    "Congratulations on finishing this assignment! You are now able to implement an attention model and use it to learn complex mappings from one sequence to another. "
   ]
  }
 ],
 "metadata": {
  "anaconda-cloud": {},
  "coursera": {
   "course_slug": "nlp-sequence-models",
   "graded_item_id": "n16CQ",
   "launcher_item_id": "npjGi"
  },
  "kernelspec": {
   "display_name": "Python 3",
   "language": "python",
   "name": "python3"
  },
  "language_info": {
   "codemirror_mode": {
    "name": "ipython",
    "version": 3
   },
   "file_extension": ".py",
   "mimetype": "text/x-python",
   "name": "python",
   "nbconvert_exporter": "python",
   "pygments_lexer": "ipython3",
   "version": "3.6.6"
  }
 },
 "nbformat": 4,
 "nbformat_minor": 2
}
